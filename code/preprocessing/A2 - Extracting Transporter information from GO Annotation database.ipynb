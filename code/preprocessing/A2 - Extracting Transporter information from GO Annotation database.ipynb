{
 "cells": [
  {
   "cell_type": "code",
   "execution_count": 1,
   "id": "77d9445f",
   "metadata": {
    "scrolled": true
   },
   "outputs": [],
   "source": [
    "import pandas as pd\n",
    "import numpy as np\n",
    "from os.path import join\n",
    "import os\n",
    "import urllib.parse\n",
    "import urllib.request\n",
    "from Bio.UniProt.GOA import _gpa11iterator\n",
    "import gzip\n",
    "import pickle\n",
    "\n",
    "import warnings\n",
    "warnings.filterwarnings('ignore')"
   ]
  },
  {
   "cell_type": "markdown",
   "id": "2a03f076",
   "metadata": {},
   "source": [
    "## 1. Extracting  UniProt IDs with transporter GO Terms:"
   ]
  },
  {
   "cell_type": "code",
   "execution_count": 2,
   "id": "e2d59761",
   "metadata": {},
   "outputs": [],
   "source": [
    "df = pd.read_pickle(join(\"..\", \"..\", \"data\", \"GOA\", \"go_terms\", \"df_GO_with_substrates.pkl\"))\n",
    "transporter_go_terms = list(set(df[\"GO ID\"]))"
   ]
  },
  {
   "cell_type": "markdown",
   "id": "c4c6deaa",
   "metadata": {},
   "source": [
    "The file \"goa_uniprot_all.gpa.gz\" needs to be downloaded from http://current.geneontology.org/annotations/index.html and stored in the folder \"data/GOA/\"\n"
   ]
  },
  {
   "cell_type": "code",
   "execution_count": 3,
   "id": "cd9e3346",
   "metadata": {},
   "outputs": [],
   "source": [
    "filename = join(\"..\", \"..\", \"data\", \"GOA\", \"goa_uniprot_all.gpa.gz\")"
   ]
  },
  {
   "cell_type": "code",
   "execution_count": null,
   "id": "796b7623",
   "metadata": {},
   "outputs": [],
   "source": [
    "run = 0\n",
    "\n",
    "df_GO_UID = pd.DataFrame(columns = [\"Uniprot ID\", \"GO Term\", 'ECO_Evidence_code'])\n",
    "\n",
    "\n",
    "overall_count = 0\n",
    "continuing = False\n",
    "\n",
    "with gzip.open(filename, 'rt') as fp:\n",
    "    for annotation in _gpa11iterator(fp):                 \n",
    "        overall_count += 1\n",
    "        if overall_count >= run*10**6 and overall_count < (run+1)*10**6:\n",
    "            # Output annotated protein ID   \n",
    "            UID = annotation['DB_Object_ID']\n",
    "            GO_ID = annotation['GO_ID']\n",
    "            ECO_Evidence_code = annotation[\"ECO_Evidence_code\"]\n",
    "            if GO_ID in transporter_go_terms:\n",
    "                df_GO_UID = df_GO_UID.append({\"Uniprot ID\" : UID, \"GO Term\" : GO_ID,\n",
    "                                             'ECO_Evidence_code' : ECO_Evidence_code}, ignore_index = True)\n",
    "                \n",
    "df_GO_UID.to_pickle(join(\"..\", \"..\", \"data\", \"GOA\", \"GO_UID_mapping\", \"df_GO_UID_part_\" + str(run) +\".pkl\"))"
   ]
  },
  {
   "cell_type": "code",
   "execution_count": null,
   "id": "89ff59ca",
   "metadata": {},
   "outputs": [],
   "source": [
    "df_GO_UID = pd.DataFrame(columns = [\"Uniprot ID\", \"GO Term\", 'ECO_Evidence_code'])\n",
    "\n",
    "for run in range(923):\n",
    "    try:\n",
    "        with open(join(\"..\", \"..\", \"data\", \"GOA\", \"GO_UID_mapping\", \"df_GO_UID_part_\" + str(run) +\".pkl\"), \"rb\") as fh:\n",
    "            df_new = pickle.load(fh)\n",
    "        #df_new = pd.read_pickle(join(CURRENT_DIR, \"alex_data\", \"go_data\", \"GO_UID_mapping\", \"df_GO_UID_part_\" + str(run) +\".pkl\"))\n",
    "        df_GO_UID = pd.concat([df_GO_UID, df_new], ignore_index=True)\n",
    "    except:\n",
    "        print(run)\n",
    "\n",
    "df_GO_UID.to_pickle(join(\"..\", \"..\", \"data\", \"GOA\", \"df_GO_UID.pkl\"))"
   ]
  },
  {
   "cell_type": "code",
   "execution_count": 5,
   "id": "39c292ac",
   "metadata": {},
   "outputs": [
    {
     "data": {
      "text/plain": [
       "44681373"
      ]
     },
     "execution_count": 5,
     "metadata": {},
     "output_type": "execute_result"
    }
   ],
   "source": [
    "df_GO_UID = pd.read_pickle(join(\"..\", \"..\", \"data\", \"GOA\", \"df_GO_UID.pkl\"))\n",
    "len(df_GO_UID)"
   ]
  },
  {
   "cell_type": "markdown",
   "id": "b3cde66d",
   "metadata": {},
   "source": [
    "## 2. Mapping the ECO codes to 16 different evidence categories:"
   ]
  },
  {
   "cell_type": "markdown",
   "id": "386539c7",
   "metadata": {},
   "source": [
    "Every entry in the GOA database has an evidence code"
   ]
  },
  {
   "cell_type": "code",
   "execution_count": 6,
   "id": "d1de2dba",
   "metadata": {},
   "outputs": [
    {
     "data": {
      "text/html": [
       "<div>\n",
       "<style scoped>\n",
       "    .dataframe tbody tr th:only-of-type {\n",
       "        vertical-align: middle;\n",
       "    }\n",
       "\n",
       "    .dataframe tbody tr th {\n",
       "        vertical-align: top;\n",
       "    }\n",
       "\n",
       "    .dataframe thead th {\n",
       "        text-align: right;\n",
       "    }\n",
       "</style>\n",
       "<table border=\"1\" class=\"dataframe\">\n",
       "  <thead>\n",
       "    <tr style=\"text-align: right;\">\n",
       "      <th></th>\n",
       "      <th>ECO</th>\n",
       "      <th>Evidence</th>\n",
       "      <th>code default</th>\n",
       "    </tr>\n",
       "  </thead>\n",
       "  <tbody>\n",
       "    <tr>\n",
       "      <th>0</th>\n",
       "      <td>ECO:0000278</td>\n",
       "      <td>EXP</td>\n",
       "      <td>NaN</td>\n",
       "    </tr>\n",
       "    <tr>\n",
       "      <th>1</th>\n",
       "      <td>ECO:0000288</td>\n",
       "      <td>EXP</td>\n",
       "      <td>NaN</td>\n",
       "    </tr>\n",
       "    <tr>\n",
       "      <th>2</th>\n",
       "      <td>ECO:0001043</td>\n",
       "      <td>EXP</td>\n",
       "      <td>NaN</td>\n",
       "    </tr>\n",
       "    <tr>\n",
       "      <th>3</th>\n",
       "      <td>ECO:0001146</td>\n",
       "      <td>EXP</td>\n",
       "      <td>NaN</td>\n",
       "    </tr>\n",
       "    <tr>\n",
       "      <th>4</th>\n",
       "      <td>ECO:0001147</td>\n",
       "      <td>EXP</td>\n",
       "      <td>NaN</td>\n",
       "    </tr>\n",
       "    <tr>\n",
       "      <th>...</th>\n",
       "      <td>...</td>\n",
       "      <td>...</td>\n",
       "      <td>...</td>\n",
       "    </tr>\n",
       "    <tr>\n",
       "      <th>1182</th>\n",
       "      <td>ECO:0007659</td>\n",
       "      <td>RCA</td>\n",
       "      <td>NaN</td>\n",
       "    </tr>\n",
       "    <tr>\n",
       "      <th>1183</th>\n",
       "      <td>ECO:0007666</td>\n",
       "      <td>RCA</td>\n",
       "      <td>NaN</td>\n",
       "    </tr>\n",
       "    <tr>\n",
       "      <th>1184</th>\n",
       "      <td>ECO:0000245</td>\n",
       "      <td>RCA</td>\n",
       "      <td>Default</td>\n",
       "    </tr>\n",
       "    <tr>\n",
       "      <th>1185</th>\n",
       "      <td>ECO:0006017</td>\n",
       "      <td>TAS</td>\n",
       "      <td>NaN</td>\n",
       "    </tr>\n",
       "    <tr>\n",
       "      <th>1186</th>\n",
       "      <td>ECO:0000304</td>\n",
       "      <td>TAS</td>\n",
       "      <td>Default</td>\n",
       "    </tr>\n",
       "  </tbody>\n",
       "</table>\n",
       "<p>1187 rows × 3 columns</p>\n",
       "</div>"
      ],
      "text/plain": [
       "              ECO Evidence code default\n",
       "0     ECO:0000278      EXP          NaN\n",
       "1     ECO:0000288      EXP          NaN\n",
       "2     ECO:0001043      EXP          NaN\n",
       "3     ECO:0001146      EXP          NaN\n",
       "4     ECO:0001147      EXP          NaN\n",
       "...           ...      ...          ...\n",
       "1182  ECO:0007659      RCA          NaN\n",
       "1183  ECO:0007666      RCA          NaN\n",
       "1184  ECO:0000245      RCA      Default\n",
       "1185  ECO:0006017      TAS          NaN\n",
       "1186  ECO:0000304      TAS      Default\n",
       "\n",
       "[1187 rows x 3 columns]"
      ]
     },
     "execution_count": 6,
     "metadata": {},
     "output_type": "execute_result"
    }
   ],
   "source": [
    "filename_eco_obo = join(\"..\", \"..\", \"data\", \"GOA\", 'eco.obo')\n",
    "\n",
    "df = pd.DataFrame(columns = [\"ECO ID\"])\n",
    "df[\"parents\"] = \"\"\n",
    "\n",
    "file1 = open(filename_eco_obo, 'r')\n",
    "Lines = file1.readlines()\n",
    "start = 0\n",
    "while start != -1:\n",
    "    start = Lines.index('[Term]\\n')\n",
    "    Lines = Lines[start+1:]\n",
    "    try:\n",
    "        ECO_Term = Lines[: Lines.index('[Term]\\n')]\n",
    "   \n",
    "\n",
    "        ECO_list = []\n",
    "        for line in ECO_Term:\n",
    "            if \"is_a\" in line:\n",
    "                ID = line.split(\"! \")[0][6:-1]\n",
    "                if ID.find(\"{\") != -1:\n",
    "                    ID = ID[:ID.find(\"{\")-1]\n",
    "                ECO_list.append(ID)\n",
    "            \n",
    "    except:\n",
    "        start = -1\n",
    "            \n",
    "    \n",
    "    df = df.append({\"ECO ID\" :  ECO_Term[0][4:-1], \"parents\" : ECO_list}, ignore_index = True)\n",
    "    \n",
    "df[\"Evidence codes\"] = \"\"\n",
    "\n",
    "ECO_to_GAF = pd.read_csv(join(\"..\", \"..\", \"data\", \"GOA\", 'ECO_to_GAF.tsv'), sep = \"\\t\")\n",
    "ECO_to_GAF"
   ]
  },
  {
   "cell_type": "code",
   "execution_count": 7,
   "id": "c11ba841",
   "metadata": {},
   "outputs": [],
   "source": [
    "for ind in df.index:\n",
    "    ID = df[\"ECO ID\"][ind]\n",
    "    help_df = ECO_to_GAF.loc[ECO_to_GAF[\"ECO\"] == ID]\n",
    "    if len(help_df) > 0:\n",
    "        df[\"Evidence codes\"][ind] = [list(help_df[\"Evidence\"])[0]]\n",
    "        \n",
    "df_label = df.loc[df[\"Evidence codes\"] != \"\"]\n",
    "df_label.head()\n",
    "\n",
    "df_label.to_pickle(join(\"..\", \"..\", \"data\", \"GOA\", \"df_ECO_label.pkl\"))"
   ]
  },
  {
   "cell_type": "code",
   "execution_count": 8,
   "id": "73d60a3e",
   "metadata": {},
   "outputs": [],
   "source": [
    "df_label[\"Evidence codes\"] = [code[0] for code in df_label[\"Evidence codes\"]]\n",
    "df_label.drop(columns =[\"parents\"], inplace = True)\n",
    "df_label.rename(columns = {\"ECO ID\" : \"ECO_Evidence_code\"}, inplace = True)"
   ]
  },
  {
   "cell_type": "code",
   "execution_count": 9,
   "id": "340e4ba3",
   "metadata": {},
   "outputs": [
    {
     "data": {
      "text/html": [
       "<div>\n",
       "<style scoped>\n",
       "    .dataframe tbody tr th:only-of-type {\n",
       "        vertical-align: middle;\n",
       "    }\n",
       "\n",
       "    .dataframe tbody tr th {\n",
       "        vertical-align: top;\n",
       "    }\n",
       "\n",
       "    .dataframe thead th {\n",
       "        text-align: right;\n",
       "    }\n",
       "</style>\n",
       "<table border=\"1\" class=\"dataframe\">\n",
       "  <thead>\n",
       "    <tr style=\"text-align: right;\">\n",
       "      <th></th>\n",
       "      <th>Uniprot ID</th>\n",
       "      <th>GO Term</th>\n",
       "      <th>ECO_Evidence_code</th>\n",
       "      <th>evidence</th>\n",
       "    </tr>\n",
       "  </thead>\n",
       "  <tbody>\n",
       "    <tr>\n",
       "      <th>0</th>\n",
       "      <td>A0A001</td>\n",
       "      <td>GO:0042626</td>\n",
       "      <td>ECO:0000256</td>\n",
       "      <td>IEA</td>\n",
       "    </tr>\n",
       "    <tr>\n",
       "      <th>1</th>\n",
       "      <td>A0A001</td>\n",
       "      <td>GO:0055085</td>\n",
       "      <td>ECO:0000256</td>\n",
       "      <td>IEA</td>\n",
       "    </tr>\n",
       "    <tr>\n",
       "      <th>2</th>\n",
       "      <td>A0A002</td>\n",
       "      <td>GO:0042626</td>\n",
       "      <td>ECO:0000256</td>\n",
       "      <td>IEA</td>\n",
       "    </tr>\n",
       "    <tr>\n",
       "      <th>3</th>\n",
       "      <td>A0A002</td>\n",
       "      <td>GO:0055085</td>\n",
       "      <td>ECO:0000256</td>\n",
       "      <td>IEA</td>\n",
       "    </tr>\n",
       "    <tr>\n",
       "      <th>4</th>\n",
       "      <td>A0A009DWE1</td>\n",
       "      <td>GO:0022857</td>\n",
       "      <td>ECO:0000256</td>\n",
       "      <td>IEA</td>\n",
       "    </tr>\n",
       "    <tr>\n",
       "      <th>...</th>\n",
       "      <td>...</td>\n",
       "      <td>...</td>\n",
       "      <td>...</td>\n",
       "      <td>...</td>\n",
       "    </tr>\n",
       "    <tr>\n",
       "      <th>44681368</th>\n",
       "      <td>Z9JZ28</td>\n",
       "      <td>GO:0006811</td>\n",
       "      <td>ECO:0000323</td>\n",
       "      <td>IEA</td>\n",
       "    </tr>\n",
       "    <tr>\n",
       "      <th>44681369</th>\n",
       "      <td>Z9JZ28</td>\n",
       "      <td>GO:0015986</td>\n",
       "      <td>ECO:0000256</td>\n",
       "      <td>IEA</td>\n",
       "    </tr>\n",
       "    <tr>\n",
       "      <th>44681370</th>\n",
       "      <td>Z9JZ28</td>\n",
       "      <td>GO:0015986</td>\n",
       "      <td>ECO:0000256</td>\n",
       "      <td>IEA</td>\n",
       "    </tr>\n",
       "    <tr>\n",
       "      <th>44681371</th>\n",
       "      <td>Z9JZ28</td>\n",
       "      <td>GO:1902600</td>\n",
       "      <td>ECO:0000256</td>\n",
       "      <td>IEA</td>\n",
       "    </tr>\n",
       "    <tr>\n",
       "      <th>44681372</th>\n",
       "      <td>Z9JZ82</td>\n",
       "      <td>GO:0055085</td>\n",
       "      <td>ECO:0000256</td>\n",
       "      <td>IEA</td>\n",
       "    </tr>\n",
       "  </tbody>\n",
       "</table>\n",
       "<p>44681373 rows × 4 columns</p>\n",
       "</div>"
      ],
      "text/plain": [
       "          Uniprot ID     GO Term ECO_Evidence_code evidence\n",
       "0             A0A001  GO:0042626       ECO:0000256      IEA\n",
       "1             A0A001  GO:0055085       ECO:0000256      IEA\n",
       "2             A0A002  GO:0042626       ECO:0000256      IEA\n",
       "3             A0A002  GO:0055085       ECO:0000256      IEA\n",
       "4         A0A009DWE1  GO:0022857       ECO:0000256      IEA\n",
       "...              ...         ...               ...      ...\n",
       "44681368      Z9JZ28  GO:0006811       ECO:0000323      IEA\n",
       "44681369      Z9JZ28  GO:0015986       ECO:0000256      IEA\n",
       "44681370      Z9JZ28  GO:0015986       ECO:0000256      IEA\n",
       "44681371      Z9JZ28  GO:1902600       ECO:0000256      IEA\n",
       "44681372      Z9JZ82  GO:0055085       ECO:0000256      IEA\n",
       "\n",
       "[44681373 rows x 4 columns]"
      ]
     },
     "execution_count": 9,
     "metadata": {},
     "output_type": "execute_result"
    }
   ],
   "source": [
    "df_GO_UID = df_GO_UID.merge(df_label, how = \"left\", on = \"ECO_Evidence_code\")\n",
    "df_GO_UID.rename(columns = {\"Evidence codes\" : \"evidence\"}, inplace = True)\n",
    "df_GO_UID"
   ]
  },
  {
   "cell_type": "code",
   "execution_count": 10,
   "id": "126a08fc",
   "metadata": {
    "scrolled": true
   },
   "outputs": [
    {
     "name": "stdout",
     "output_type": "stream",
     "text": [
      "ISS : 8548\n",
      "TAS : 2305\n",
      "ISO : 7611\n",
      "IEP : 68\n",
      "IMP : 5728\n",
      "IEA : 44470784\n",
      "ISM : 455\n",
      "IGI : 929\n",
      "HMP : 6\n",
      "ISA : 152\n",
      "IPI : 60\n",
      "NAS : 498\n",
      "IC : 294\n",
      "EXP : 53\n",
      "RCA : 52\n",
      "IDA : 7962\n",
      "IGC : 66\n",
      "IBA : 175802\n"
     ]
    }
   ],
   "source": [
    "evidence_codes = list(set(df_GO_UID[\"evidence\"]))\n",
    "for ev in evidence_codes:\n",
    "    print(\"%s : %s\" % (ev, len(df_GO_UID.loc[df_GO_UID[\"evidence\"] == ev])))"
   ]
  },
  {
   "cell_type": "markdown",
   "id": "ce4b7bb6",
   "metadata": {},
   "source": [
    "#### Extracting all data points with experimental evidence"
   ]
  },
  {
   "cell_type": "code",
   "execution_count": 11,
   "id": "fe2764cc",
   "metadata": {},
   "outputs": [
    {
     "data": {
      "text/plain": [
       "12913"
      ]
     },
     "execution_count": 11,
     "metadata": {},
     "output_type": "execute_result"
    }
   ],
   "source": [
    "exp_evidence = [\"EXP\",\"IDA\",\"IPI\",\"IMP\",\"IGI\",\"IEP\", \"HTP\",\"HDA\",\"HMP\",\"HGI\",\"HEP\"]\n",
    "\n",
    "df_EXP = df_GO_UID.loc[df_GO_UID[\"evidence\"] == \"EXP\"]\n",
    "df_IDA = df_GO_UID.loc[df_GO_UID[\"evidence\"] == \"IDA\"]\n",
    "df_IPI = df_GO_UID.loc[df_GO_UID[\"evidence\"] == \"IPI\"]\n",
    "df_IMP = df_GO_UID.loc[df_GO_UID[\"evidence\"] == \"IMP\"]\n",
    "df_IGI = df_GO_UID.loc[df_GO_UID[\"evidence\"] == \"IGI\"]\n",
    "df_IEP = df_GO_UID.loc[df_GO_UID[\"evidence\"] == \"IEP\"]\n",
    "\n",
    "df_exp = pd.concat([df_EXP, df_IDA, df_IPI, df_IMP, df_IGI, df_IEP], ignore_index = True)\n",
    "df_exp.drop_duplicates(inplace = True)\n",
    "len(df_exp)"
   ]
  },
  {
   "cell_type": "code",
   "execution_count": 12,
   "id": "b8dacba5",
   "metadata": {},
   "outputs": [],
   "source": [
    "df_GO_UID = df_exp.copy()"
   ]
  },
  {
   "cell_type": "code",
   "execution_count": 13,
   "id": "fdca3e46",
   "metadata": {},
   "outputs": [
    {
     "name": "stdout",
     "output_type": "stream",
     "text": [
      "6385\n"
     ]
    }
   ],
   "source": [
    "Uniprot_IDs = list(set(df_GO_UID[\"Uniprot ID\"]))\n",
    "print(len(Uniprot_IDs))\n",
    "\n",
    "df_GO_UID.to_pickle(join(\"..\", \"..\", \"data\", \"GOA\", \"df_GO_UID_Transporter.pkl\"))"
   ]
  },
  {
   "cell_type": "markdown",
   "id": "4352f86f",
   "metadata": {},
   "source": [
    "## 3. Mapping GO Terms to metabolite IDs:"
   ]
  },
  {
   "cell_type": "code",
   "execution_count": 14,
   "id": "e7adf243",
   "metadata": {},
   "outputs": [
    {
     "data": {
      "text/html": [
       "<div>\n",
       "<style scoped>\n",
       "    .dataframe tbody tr th:only-of-type {\n",
       "        vertical-align: middle;\n",
       "    }\n",
       "\n",
       "    .dataframe tbody tr th {\n",
       "        vertical-align: top;\n",
       "    }\n",
       "\n",
       "    .dataframe thead th {\n",
       "        text-align: right;\n",
       "    }\n",
       "</style>\n",
       "<table border=\"1\" class=\"dataframe\">\n",
       "  <thead>\n",
       "    <tr style=\"text-align: right;\">\n",
       "      <th></th>\n",
       "      <th>GO ID</th>\n",
       "      <th>Definition</th>\n",
       "      <th>Name</th>\n",
       "      <th>Namespace</th>\n",
       "      <th>substrate</th>\n",
       "      <th>KEGG ID</th>\n",
       "      <th>PubChem CID</th>\n",
       "      <th>InChI</th>\n",
       "      <th>ChEBI</th>\n",
       "    </tr>\n",
       "  </thead>\n",
       "  <tbody>\n",
       "    <tr>\n",
       "      <th>0</th>\n",
       "      <td>GO:0000006</td>\n",
       "      <td>\"Enables the transfer of zinc ions (Zn2+) from...</td>\n",
       "      <td>high-affinity zinc transmembrane transporter a...</td>\n",
       "      <td>molecular_function</td>\n",
       "      <td>zinc</td>\n",
       "      <td>NaN</td>\n",
       "      <td>23994.0</td>\n",
       "      <td>InChI=1S/Zn</td>\n",
       "      <td>CHEBI:27363</td>\n",
       "    </tr>\n",
       "    <tr>\n",
       "      <th>1</th>\n",
       "      <td>GO:0000007</td>\n",
       "      <td>\"Enables the transfer of a solute or solutes f...</td>\n",
       "      <td>low-affinity zinc ion transmembrane transporte...</td>\n",
       "      <td>molecular_function</td>\n",
       "      <td>zinc ion</td>\n",
       "      <td>C00038</td>\n",
       "      <td>NaN</td>\n",
       "      <td>NaN</td>\n",
       "      <td>CHEBI:10113</td>\n",
       "    </tr>\n",
       "    <tr>\n",
       "      <th>5</th>\n",
       "      <td>GO:0000064</td>\n",
       "      <td>\"Enables the transfer of L-ornithine from one ...</td>\n",
       "      <td>L-ornithine transmembrane transporter activity</td>\n",
       "      <td>molecular_function</td>\n",
       "      <td>l-ornithine</td>\n",
       "      <td>C00077</td>\n",
       "      <td>NaN</td>\n",
       "      <td>NaN</td>\n",
       "      <td>CHEBI:6280</td>\n",
       "    </tr>\n",
       "    <tr>\n",
       "      <th>6</th>\n",
       "      <td>GO:0000095</td>\n",
       "      <td>\"Enables the transfer of S-adenosylmethionine ...</td>\n",
       "      <td>S-adenosyl-L-methionine transmembrane transpor...</td>\n",
       "      <td>molecular_function</td>\n",
       "      <td>s-adenosyl-l-methionine</td>\n",
       "      <td>C00019</td>\n",
       "      <td>NaN</td>\n",
       "      <td>NaN</td>\n",
       "      <td>CHEBI:22036</td>\n",
       "    </tr>\n",
       "    <tr>\n",
       "      <th>10</th>\n",
       "      <td>GO:0000102</td>\n",
       "      <td>\"Enables the transfer of L-methionine from one...</td>\n",
       "      <td>L-methionine secondary active transmembrane tr...</td>\n",
       "      <td>molecular_function</td>\n",
       "      <td>l-methionine</td>\n",
       "      <td>C00073</td>\n",
       "      <td>NaN</td>\n",
       "      <td>NaN</td>\n",
       "      <td>CHEBI:6271</td>\n",
       "    </tr>\n",
       "  </tbody>\n",
       "</table>\n",
       "</div>"
      ],
      "text/plain": [
       "         GO ID                                         Definition  \\\n",
       "0   GO:0000006  \"Enables the transfer of zinc ions (Zn2+) from...   \n",
       "1   GO:0000007  \"Enables the transfer of a solute or solutes f...   \n",
       "5   GO:0000064  \"Enables the transfer of L-ornithine from one ...   \n",
       "6   GO:0000095  \"Enables the transfer of S-adenosylmethionine ...   \n",
       "10  GO:0000102  \"Enables the transfer of L-methionine from one...   \n",
       "\n",
       "                                                 Name           Namespace  \\\n",
       "0   high-affinity zinc transmembrane transporter a...  molecular_function   \n",
       "1   low-affinity zinc ion transmembrane transporte...  molecular_function   \n",
       "5      L-ornithine transmembrane transporter activity  molecular_function   \n",
       "6   S-adenosyl-L-methionine transmembrane transpor...  molecular_function   \n",
       "10  L-methionine secondary active transmembrane tr...  molecular_function   \n",
       "\n",
       "                  substrate KEGG ID  PubChem CID        InChI        ChEBI  \n",
       "0                      zinc     NaN      23994.0  InChI=1S/Zn  CHEBI:27363  \n",
       "1                  zinc ion  C00038          NaN          NaN  CHEBI:10113  \n",
       "5               l-ornithine  C00077          NaN          NaN   CHEBI:6280  \n",
       "6   s-adenosyl-l-methionine  C00019          NaN          NaN  CHEBI:22036  \n",
       "10             l-methionine  C00073          NaN          NaN   CHEBI:6271  "
      ]
     },
     "execution_count": 14,
     "metadata": {},
     "output_type": "execute_result"
    }
   ],
   "source": [
    "df_GO_metabolite = pd.read_pickle(join(\"..\", \"..\", \"data\", \"GOA\", \"go_terms\", \"GO_terms_with_sub_IDs.pkl\"))\n",
    "df_GO_metabolite.head()"
   ]
  },
  {
   "cell_type": "code",
   "execution_count": 15,
   "id": "b21d00b7",
   "metadata": {},
   "outputs": [
    {
     "name": "stdout",
     "output_type": "stream",
     "text": [
      "3420 281\n"
     ]
    },
    {
     "data": {
      "text/html": [
       "<div>\n",
       "<style scoped>\n",
       "    .dataframe tbody tr th:only-of-type {\n",
       "        vertical-align: middle;\n",
       "    }\n",
       "\n",
       "    .dataframe tbody tr th {\n",
       "        vertical-align: top;\n",
       "    }\n",
       "\n",
       "    .dataframe thead th {\n",
       "        text-align: right;\n",
       "    }\n",
       "</style>\n",
       "<table border=\"1\" class=\"dataframe\">\n",
       "  <thead>\n",
       "    <tr style=\"text-align: right;\">\n",
       "      <th></th>\n",
       "      <th>Uniprot ID</th>\n",
       "      <th>molecule ID</th>\n",
       "    </tr>\n",
       "  </thead>\n",
       "  <tbody>\n",
       "    <tr>\n",
       "      <th>0</th>\n",
       "      <td>O14031</td>\n",
       "      <td>CHEBI:5437</td>\n",
       "    </tr>\n",
       "    <tr>\n",
       "      <th>1</th>\n",
       "      <td>O14329</td>\n",
       "      <td>CHEBI:10113</td>\n",
       "    </tr>\n",
       "    <tr>\n",
       "      <th>2</th>\n",
       "      <td>O42976</td>\n",
       "      <td>CHEBI:9266</td>\n",
       "    </tr>\n",
       "    <tr>\n",
       "      <th>3</th>\n",
       "      <td>O74969</td>\n",
       "      <td>CHEBI:5256</td>\n",
       "    </tr>\n",
       "    <tr>\n",
       "      <th>4</th>\n",
       "      <td>O76082</td>\n",
       "      <td>CHEBI:23038</td>\n",
       "    </tr>\n",
       "    <tr>\n",
       "      <th>...</th>\n",
       "      <td>...</td>\n",
       "      <td>...</td>\n",
       "    </tr>\n",
       "    <tr>\n",
       "      <th>6630</th>\n",
       "      <td>Q0GMA8</td>\n",
       "      <td>CHEBI:29035</td>\n",
       "    </tr>\n",
       "    <tr>\n",
       "      <th>6631</th>\n",
       "      <td>Q84W56</td>\n",
       "      <td>CHEBI:16411</td>\n",
       "    </tr>\n",
       "    <tr>\n",
       "      <th>6632</th>\n",
       "      <td>Q9CAT6</td>\n",
       "      <td>CHEBI:3288</td>\n",
       "    </tr>\n",
       "    <tr>\n",
       "      <th>6634</th>\n",
       "      <td>Q9VCI3</td>\n",
       "      <td>CHEBI:6486</td>\n",
       "    </tr>\n",
       "    <tr>\n",
       "      <th>6635</th>\n",
       "      <td>Q9VXY7</td>\n",
       "      <td>CHEBI:6486</td>\n",
       "    </tr>\n",
       "  </tbody>\n",
       "</table>\n",
       "<p>4775 rows × 2 columns</p>\n",
       "</div>"
      ],
      "text/plain": [
       "     Uniprot ID  molecule ID\n",
       "0        O14031   CHEBI:5437\n",
       "1        O14329  CHEBI:10113\n",
       "2        O42976   CHEBI:9266\n",
       "3        O74969   CHEBI:5256\n",
       "4        O76082  CHEBI:23038\n",
       "...         ...          ...\n",
       "6630     Q0GMA8  CHEBI:29035\n",
       "6631     Q84W56  CHEBI:16411\n",
       "6632     Q9CAT6   CHEBI:3288\n",
       "6634     Q9VCI3   CHEBI:6486\n",
       "6635     Q9VXY7   CHEBI:6486\n",
       "\n",
       "[4775 rows x 2 columns]"
      ]
     },
     "execution_count": 15,
     "metadata": {},
     "output_type": "execute_result"
    }
   ],
   "source": [
    "df_UID_MID = pd.DataFrame(columns =[\"Uniprot ID\", \"molecule ID\"])\n",
    "\n",
    "for ind in df_GO_UID.index:\n",
    "    if ind >= -1:\n",
    "        GO_ID = df_GO_UID[\"GO Term\"][ind]\n",
    "        UID = df_GO_UID[\"Uniprot ID\"][ind]\n",
    "        met_IDs = list(df_GO_metabolite[\"ChEBI\"].loc[df_GO_metabolite[\"GO ID\"] == GO_ID])\n",
    "        for met_ID in met_IDs:\n",
    "            df_UID_MID = df_UID_MID.append({\"Uniprot ID\" : UID, \"molecule ID\" : met_ID}, ignore_index = True)\n",
    "        \n",
    "df_UID_MID.drop_duplicates(inplace = True)\n",
    "Uniprot_IDs = list(set(df_UID_MID[\"Uniprot ID\"]))\n",
    "print(len(Uniprot_IDs), len(list(set(df_UID_MID[\"molecule ID\"]))))\n",
    "\n",
    "df_UID_MID"
   ]
  },
  {
   "cell_type": "markdown",
   "id": "588ef381",
   "metadata": {},
   "source": [
    "## 4. Mapping UniProt IDs to amino acid sequences:"
   ]
  },
  {
   "cell_type": "code",
   "execution_count": 16,
   "id": "53b64d21",
   "metadata": {},
   "outputs": [],
   "source": [
    "f = open(join(\"..\", \"..\", \"data\", \"GOA\", \"UNIPROT_IDs.txt\"),\"w\") \n",
    "\n",
    "Uniprot_IDs = list(set(df_UID_MID[\"Uniprot ID\"]))\n",
    "for ID in list(set(Uniprot_IDs)):\n",
    "    f.write(str(ID) + \"\\n\")\n",
    "f.close()"
   ]
  },
  {
   "cell_type": "markdown",
   "id": "a0b14c90",
   "metadata": {},
   "source": [
    "Using the Uniprot mapping service (https://www.uniprot.org/id-mapping) to map Uniprot IDs to sequences:"
   ]
  },
  {
   "cell_type": "code",
   "execution_count": 17,
   "id": "ca0082bf",
   "metadata": {},
   "outputs": [],
   "source": [
    "UNIPROT_df = pd.read_csv(join(\"..\", \"..\", \"data\", \"GOA\", \"Uniprot_results.csv\"), sep = \";\")\n",
    "UNIPROT_df.drop(columns = [\"Entry\"], inplace = True)"
   ]
  },
  {
   "cell_type": "code",
   "execution_count": 18,
   "id": "c5684062",
   "metadata": {},
   "outputs": [],
   "source": [
    "df_UID_MID = df_UID_MID.merge(UNIPROT_df, how = \"left\", on = \"Uniprot ID\")"
   ]
  },
  {
   "cell_type": "code",
   "execution_count": 19,
   "id": "b3ad2dd2",
   "metadata": {},
   "outputs": [],
   "source": [
    "df_UID_MID.to_pickle(join(\"..\", \"..\", \"data\", \"GOA\", \"GOA_Transporter.pkl\"))"
   ]
  }
 ],
 "metadata": {
  "kernelspec": {
   "display_name": "Python 3 (ipykernel)",
   "language": "python",
   "name": "python3"
  },
  "language_info": {
   "codemirror_mode": {
    "name": "ipython",
    "version": 3
   },
   "file_extension": ".py",
   "mimetype": "text/x-python",
   "name": "python",
   "nbconvert_exporter": "python",
   "pygments_lexer": "ipython3",
   "version": "3.7.13"
  }
 },
 "nbformat": 4,
 "nbformat_minor": 5
}
