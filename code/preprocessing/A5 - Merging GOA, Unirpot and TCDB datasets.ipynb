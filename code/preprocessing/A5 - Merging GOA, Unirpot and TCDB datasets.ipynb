{
 "cells": [
  {
   "cell_type": "code",
   "execution_count": 1,
   "metadata": {},
   "outputs": [
    {
     "name": "stderr",
     "output_type": "stream",
     "text": [
      "\n",
      "Bad key text.latex.preview in file ..\\model_fitting\\CCB_plot_style_0v4.mplstyle, line 55 ('text.latex.preview  : False')\n",
      "You probably need to get an updated matplotlibrc file from\n",
      "https://github.com/matplotlib/matplotlib/blob/v3.5.3/matplotlibrc.template\n",
      "or from the matplotlib source distribution\n",
      "\n",
      "Bad key mathtext.fallback_to_cm in file ..\\model_fitting\\CCB_plot_style_0v4.mplstyle, line 63 ('mathtext.fallback_to_cm : True ## When True, use symbols from the Computer Modern fonts')\n",
      "You probably need to get an updated matplotlibrc file from\n",
      "https://github.com/matplotlib/matplotlib/blob/v3.5.3/matplotlibrc.template\n",
      "or from the matplotlib source distribution\n"
     ]
    }
   ],
   "source": [
    "import pandas as pd\n",
    "import numpy as np\n",
    "import time\n",
    "import random\n",
    "import os\n",
    "from os.path import join\n",
    "\n",
    "import matplotlib.pyplot as plt\n",
    "from matplotlib.pyplot import figure\n",
    "import matplotlib as mpl\n",
    "plt.style.use(join(\"..\", \"model_fitting\", 'CCB_plot_style_0v4.mplstyle'))\n",
    "c_styles      = mpl.rcParams['axes.prop_cycle'].by_key()['color']   #fetch the defined color styles\n",
    "high_contrast = ['#004488', '#DDAA33', '#BB5566', '#000000'] "
   ]
  },
  {
   "cell_type": "markdown",
   "metadata": {},
   "source": [
    "## 1. Loading data from TCDB, Unirpot, and GOA database and merging them:"
   ]
  },
  {
   "cell_type": "markdown",
   "metadata": {},
   "source": [
    "### (a) Loading database created from TCDB:"
   ]
  },
  {
   "cell_type": "code",
   "execution_count": 2,
   "metadata": {},
   "outputs": [
    {
     "data": {
      "text/html": [
       "<div>\n",
       "<style scoped>\n",
       "    .dataframe tbody tr th:only-of-type {\n",
       "        vertical-align: middle;\n",
       "    }\n",
       "\n",
       "    .dataframe tbody tr th {\n",
       "        vertical-align: top;\n",
       "    }\n",
       "\n",
       "    .dataframe thead th {\n",
       "        text-align: right;\n",
       "    }\n",
       "</style>\n",
       "<table border=\"1\" class=\"dataframe\">\n",
       "  <thead>\n",
       "    <tr style=\"text-align: right;\">\n",
       "      <th></th>\n",
       "      <th>UniProt</th>\n",
       "      <th>Sequence</th>\n",
       "      <th>ChEBI</th>\n",
       "      <th>GOA</th>\n",
       "      <th>TCDB</th>\n",
       "      <th>SWISS</th>\n",
       "    </tr>\n",
       "  </thead>\n",
       "  <tbody>\n",
       "    <tr>\n",
       "      <th>0</th>\n",
       "      <td>P0A334</td>\n",
       "      <td>MPPMLSGLLARLVKLLLGRHGSALHWRAAGAATVLLVIVLLAGSYL...</td>\n",
       "      <td>CHEBI:8345</td>\n",
       "      <td>0</td>\n",
       "      <td>1</td>\n",
       "      <td>0</td>\n",
       "    </tr>\n",
       "    <tr>\n",
       "      <th>1</th>\n",
       "      <td>P0A334</td>\n",
       "      <td>MPPMLSGLLARLVKLLLGRHGSALHWRAAGAATVLLVIVLLAGSYL...</td>\n",
       "      <td>CHEBI:5585</td>\n",
       "      <td>0</td>\n",
       "      <td>1</td>\n",
       "      <td>0</td>\n",
       "    </tr>\n",
       "  </tbody>\n",
       "</table>\n",
       "</div>"
      ],
      "text/plain": [
       "  UniProt                                           Sequence       ChEBI  GOA  \\\n",
       "0  P0A334  MPPMLSGLLARLVKLLLGRHGSALHWRAAGAATVLLVIVLLAGSYL...  CHEBI:8345    0   \n",
       "1  P0A334  MPPMLSGLLARLVKLLLGRHGSALHWRAAGAATVLLVIVLLAGSYL...  CHEBI:5585    0   \n",
       "\n",
       "   TCDB  SWISS  \n",
       "0     1      0  \n",
       "1     1      0  "
      ]
     },
     "metadata": {},
     "output_type": "display_data"
    },
    {
     "name": "stdout",
     "output_type": "stream",
     "text": [
      "18051\n",
      "Number of different sequences: 11795\n",
      "Number of different CHEBI IDs: 1559\n",
      "Number of different Uniprot IDs: 11799\n"
     ]
    }
   ],
   "source": [
    "df_TCDB = pd.read_csv(join(\"..\", \"..\", \"data\", \"TCDB\", \"database_without_inchi.csv\"))\n",
    "df_TCDB.drop(columns = [\"TCNumber\", \"Name\", \"Substrate\"], inplace = True)\n",
    "df_TCDB[\"GOA\"] = 0\n",
    "df_TCDB[\"TCDB\"] = 1\n",
    "df_TCDB[\"SWISS\"] = 0\n",
    "display(df_TCDB.head(2))\n",
    "print(len(df_TCDB))\n",
    "print(\"Number of different sequences: %s\\\n",
    "\\nNumber of different CHEBI IDs: %s\\\n",
    "\\nNumber of different Uniprot IDs: %s\" \n",
    "      % (len(set(list(df_TCDB[\"Sequence\"]))), len(set(list(df_TCDB[\"ChEBI\"]))),len(set(list(df_TCDB[\"UniProt\"])))))"
   ]
  },
  {
   "cell_type": "markdown",
   "metadata": {},
   "source": [
    "### (b) Loading database created from GOA:"
   ]
  },
  {
   "cell_type": "code",
   "execution_count": 3,
   "metadata": {},
   "outputs": [
    {
     "data": {
      "text/html": [
       "<div>\n",
       "<style scoped>\n",
       "    .dataframe tbody tr th:only-of-type {\n",
       "        vertical-align: middle;\n",
       "    }\n",
       "\n",
       "    .dataframe tbody tr th {\n",
       "        vertical-align: top;\n",
       "    }\n",
       "\n",
       "    .dataframe thead th {\n",
       "        text-align: right;\n",
       "    }\n",
       "</style>\n",
       "<table border=\"1\" class=\"dataframe\">\n",
       "  <thead>\n",
       "    <tr style=\"text-align: right;\">\n",
       "      <th></th>\n",
       "      <th>UniProt</th>\n",
       "      <th>ChEBI</th>\n",
       "      <th>Sequence</th>\n",
       "      <th>GOA</th>\n",
       "      <th>TCDB</th>\n",
       "      <th>SWISS</th>\n",
       "    </tr>\n",
       "  </thead>\n",
       "  <tbody>\n",
       "    <tr>\n",
       "      <th>0</th>\n",
       "      <td>O14031</td>\n",
       "      <td>CHEBI:5437</td>\n",
       "      <td>MTARNSASIPTSIRKTSENEVSGDETPAGVGNLSTKTASKTSLTFR...</td>\n",
       "      <td>1</td>\n",
       "      <td>0</td>\n",
       "      <td>0</td>\n",
       "    </tr>\n",
       "    <tr>\n",
       "      <th>1</th>\n",
       "      <td>O14329</td>\n",
       "      <td>CHEBI:10113</td>\n",
       "      <td>MTQNHNIPTAIQIQNPINNNVSVTISDQLPKPSANNPNLLSVDTRP...</td>\n",
       "      <td>1</td>\n",
       "      <td>0</td>\n",
       "      <td>0</td>\n",
       "    </tr>\n",
       "  </tbody>\n",
       "</table>\n",
       "</div>"
      ],
      "text/plain": [
       "  UniProt        ChEBI                                           Sequence  \\\n",
       "0  O14031   CHEBI:5437  MTARNSASIPTSIRKTSENEVSGDETPAGVGNLSTKTASKTSLTFR...   \n",
       "1  O14329  CHEBI:10113  MTQNHNIPTAIQIQNPINNNVSVTISDQLPKPSANNPNLLSVDTRP...   \n",
       "\n",
       "   GOA  TCDB  SWISS  \n",
       "0    1     0      0  \n",
       "1    1     0      0  "
      ]
     },
     "metadata": {},
     "output_type": "display_data"
    },
    {
     "name": "stdout",
     "output_type": "stream",
     "text": [
      "4775\n",
      "Number of different sequences: 3371\n",
      "Number of different ChEBI IDs: 281\n",
      "Number of different Uniprot IDs: 3420\n"
     ]
    }
   ],
   "source": [
    "df_GOA = pd.read_pickle(join(\"..\", \"..\", \"data\", \"GOA\", \"GOA_Transporter.pkl\"))\n",
    "df_GOA.rename(columns = {\"Uniprot ID\" : \"UniProt\", \"molecule ID\" : \"ChEBI\"}, inplace = True)\n",
    "df_GOA[\"GOA\"] = 1\n",
    "df_GOA[\"TCDB\"] = 0\n",
    "df_GOA[\"SWISS\"] = 0\n",
    "display(df_GOA.head(2))\n",
    "print(len(df_GOA))\n",
    "print(\"Number of different sequences: %s\\\n",
    "\\nNumber of different ChEBI IDs: %s\\\n",
    "\\nNumber of different Uniprot IDs: %s\" \n",
    "      % (len(set(list(df_GOA[\"Sequence\"]))), len(set(list(df_GOA[\"ChEBI\"]))),len(set(list(df_GOA[\"UniProt\"]))) ))"
   ]
  },
  {
   "cell_type": "markdown",
   "metadata": {},
   "source": [
    "### (c) Loading database created from Uniprot:"
   ]
  },
  {
   "cell_type": "code",
   "execution_count": 4,
   "metadata": {},
   "outputs": [
    {
     "data": {
      "text/html": [
       "<div>\n",
       "<style scoped>\n",
       "    .dataframe tbody tr th:only-of-type {\n",
       "        vertical-align: middle;\n",
       "    }\n",
       "\n",
       "    .dataframe tbody tr th {\n",
       "        vertical-align: top;\n",
       "    }\n",
       "\n",
       "    .dataframe thead th {\n",
       "        text-align: right;\n",
       "    }\n",
       "</style>\n",
       "<table border=\"1\" class=\"dataframe\">\n",
       "  <thead>\n",
       "    <tr style=\"text-align: right;\">\n",
       "      <th></th>\n",
       "      <th>UniProt</th>\n",
       "      <th>ChEBI</th>\n",
       "      <th>Entry</th>\n",
       "      <th>Sequence</th>\n",
       "      <th>GOA</th>\n",
       "      <th>TCDB</th>\n",
       "      <th>SWISS</th>\n",
       "    </tr>\n",
       "  </thead>\n",
       "  <tbody>\n",
       "    <tr>\n",
       "      <th>0</th>\n",
       "      <td>P63361</td>\n",
       "      <td>CHEBI:43474</td>\n",
       "      <td>P63361</td>\n",
       "      <td>MNLMAERSLENAVGEKMNATASSIKMRGEKVCVFYGEKQALFDVDL...</td>\n",
       "      <td>0</td>\n",
       "      <td>0</td>\n",
       "      <td>1</td>\n",
       "    </tr>\n",
       "    <tr>\n",
       "      <th>1</th>\n",
       "      <td>Q5LBQ4</td>\n",
       "      <td>CHEBI:43474</td>\n",
       "      <td>Q5LBQ4</td>\n",
       "      <td>MDTTVKIDARDVNFWYGDFHALKGISMEIEEKSVVAFIGPSGCGKS...</td>\n",
       "      <td>0</td>\n",
       "      <td>0</td>\n",
       "      <td>1</td>\n",
       "    </tr>\n",
       "  </tbody>\n",
       "</table>\n",
       "</div>"
      ],
      "text/plain": [
       "  UniProt        ChEBI   Entry  \\\n",
       "0  P63361  CHEBI:43474  P63361   \n",
       "1  Q5LBQ4  CHEBI:43474  Q5LBQ4   \n",
       "\n",
       "                                            Sequence  GOA  TCDB  SWISS  \n",
       "0  MNLMAERSLENAVGEKMNATASSIKMRGEKVCVFYGEKQALFDVDL...    0     0      1  \n",
       "1  MDTTVKIDARDVNFWYGDFHALKGISMEIEEKSVVAFIGPSGCGKS...    0     0      1  "
      ]
     },
     "metadata": {},
     "output_type": "display_data"
    },
    {
     "name": "stdout",
     "output_type": "stream",
     "text": [
      "15864\n",
      "Number of different sequences: 10748\n",
      "Number of different ChEBI IDs: 243\n",
      "Number of different Uniprot IDs: 12910\n"
     ]
    }
   ],
   "source": [
    "df_Uniprot = pd.read_pickle(join(\"..\",  \"..\", \"data\", \"Uniprot\", \"Transporter_Uniprot.pkl\"))\n",
    "df_Uniprot.rename(columns = {\"Uniprot ID\" : \"UniProt\", \"molecule ID\" : \"ChEBI\"}, inplace = True)\n",
    "df_Uniprot[\"GOA\"] = 0\n",
    "df_Uniprot[\"TCDB\"] = 0\n",
    "df_Uniprot[\"SWISS\"] = 1\n",
    "display(df_Uniprot.head(2))\n",
    "print(len(df_Uniprot))\n",
    "print(\"Number of different sequences: %s\\\n",
    "\\nNumber of different ChEBI IDs: %s\\\n",
    "\\nNumber of different Uniprot IDs: %s\" \n",
    "      % (len(set(list(df_Uniprot[\"Sequence\"]))), len(set(list(df_Uniprot[\"ChEBI\"]))),len(set(list(df_Uniprot[\"UniProt\"]))) ))"
   ]
  },
  {
   "cell_type": "markdown",
   "metadata": {},
   "source": [
    "### (d) Merging all three datasets:"
   ]
  },
  {
   "cell_type": "code",
   "execution_count": 5,
   "metadata": {},
   "outputs": [
    {
     "data": {
      "text/html": [
       "<div>\n",
       "<style scoped>\n",
       "    .dataframe tbody tr th:only-of-type {\n",
       "        vertical-align: middle;\n",
       "    }\n",
       "\n",
       "    .dataframe tbody tr th {\n",
       "        vertical-align: top;\n",
       "    }\n",
       "\n",
       "    .dataframe thead th {\n",
       "        text-align: right;\n",
       "    }\n",
       "</style>\n",
       "<table border=\"1\" class=\"dataframe\">\n",
       "  <thead>\n",
       "    <tr style=\"text-align: right;\">\n",
       "      <th></th>\n",
       "      <th>UniProt</th>\n",
       "      <th>ChEBI</th>\n",
       "      <th>Sequence</th>\n",
       "      <th>GOA</th>\n",
       "      <th>TCDB</th>\n",
       "      <th>SWISS</th>\n",
       "    </tr>\n",
       "  </thead>\n",
       "  <tbody>\n",
       "    <tr>\n",
       "      <th>0</th>\n",
       "      <td>O14031</td>\n",
       "      <td>CHEBI:5437</td>\n",
       "      <td>MTARNSASIPTSIRKTSENEVSGDETPAGVGNLSTKTASKTSLTFR...</td>\n",
       "      <td>1</td>\n",
       "      <td>0</td>\n",
       "      <td>0</td>\n",
       "    </tr>\n",
       "    <tr>\n",
       "      <th>1</th>\n",
       "      <td>O14329</td>\n",
       "      <td>CHEBI:10113</td>\n",
       "      <td>MTQNHNIPTAIQIQNPINNNVSVTISDQLPKPSANNPNLLSVDTRP...</td>\n",
       "      <td>1</td>\n",
       "      <td>0</td>\n",
       "      <td>0</td>\n",
       "    </tr>\n",
       "    <tr>\n",
       "      <th>2</th>\n",
       "      <td>O42976</td>\n",
       "      <td>CHEBI:9266</td>\n",
       "      <td>MKEENGFAGFLNTAVNRLSGVLNDTAPTKSQSLKNGVNNEGNRGFS...</td>\n",
       "      <td>1</td>\n",
       "      <td>0</td>\n",
       "      <td>0</td>\n",
       "    </tr>\n",
       "    <tr>\n",
       "      <th>3</th>\n",
       "      <td>O74969</td>\n",
       "      <td>CHEBI:5256</td>\n",
       "      <td>MGFKRGKNFTLVMLIFVSMAGWMFGADTGSIGGVTSMRDFRERYAD...</td>\n",
       "      <td>1</td>\n",
       "      <td>0</td>\n",
       "      <td>0</td>\n",
       "    </tr>\n",
       "    <tr>\n",
       "      <th>4</th>\n",
       "      <td>O76082</td>\n",
       "      <td>CHEBI:23038</td>\n",
       "      <td>MRDYDEVTAFLGEWGPFQRLIFFLLSASIIPNGFTGLSSVFLIATP...</td>\n",
       "      <td>1</td>\n",
       "      <td>0</td>\n",
       "      <td>0</td>\n",
       "    </tr>\n",
       "    <tr>\n",
       "      <th>...</th>\n",
       "      <td>...</td>\n",
       "      <td>...</td>\n",
       "      <td>...</td>\n",
       "      <td>...</td>\n",
       "      <td>...</td>\n",
       "      <td>...</td>\n",
       "    </tr>\n",
       "    <tr>\n",
       "      <th>15859</th>\n",
       "      <td>Q8HVW3</td>\n",
       "      <td>CHEBI:15378</td>\n",
       "      <td>MFPMVTEFMNYGQQTVRAARYIGQGFTITLSHANRLPVTIQYPYEK...</td>\n",
       "      <td>0</td>\n",
       "      <td>0</td>\n",
       "      <td>1</td>\n",
       "    </tr>\n",
       "    <tr>\n",
       "      <th>15860</th>\n",
       "      <td>Q2MII3</td>\n",
       "      <td>CHEBI:15378</td>\n",
       "      <td>MNSIQFPLLDRTAPNSVISTTLNDLSNWSRLSSLWPLLYGTSCCFI...</td>\n",
       "      <td>0</td>\n",
       "      <td>0</td>\n",
       "      <td>1</td>\n",
       "    </tr>\n",
       "    <tr>\n",
       "      <th>15861</th>\n",
       "      <td>A6TAW7</td>\n",
       "      <td>CHEBI:15378</td>\n",
       "      <td>MEISYGRALWRNFLGQSPDWYKLALIIFLIVNPLVFAVAPFVAGWL...</td>\n",
       "      <td>0</td>\n",
       "      <td>0</td>\n",
       "      <td>1</td>\n",
       "    </tr>\n",
       "    <tr>\n",
       "      <th>15862</th>\n",
       "      <td>A6TAW7</td>\n",
       "      <td>CHEBI:29101</td>\n",
       "      <td>MEISYGRALWRNFLGQSPDWYKLALIIFLIVNPLVFAVAPFVAGWL...</td>\n",
       "      <td>0</td>\n",
       "      <td>0</td>\n",
       "      <td>1</td>\n",
       "    </tr>\n",
       "    <tr>\n",
       "      <th>15863</th>\n",
       "      <td>B0BZW3</td>\n",
       "      <td>CHEBI:15378</td>\n",
       "      <td>MLKFLNQVTSYGKESFQAARYIGQGLAVTFDHMKRRPITVQYPYEK...</td>\n",
       "      <td>0</td>\n",
       "      <td>0</td>\n",
       "      <td>1</td>\n",
       "    </tr>\n",
       "  </tbody>\n",
       "</table>\n",
       "<p>38690 rows × 6 columns</p>\n",
       "</div>"
      ],
      "text/plain": [
       "      UniProt        ChEBI                                           Sequence  \\\n",
       "0      O14031   CHEBI:5437  MTARNSASIPTSIRKTSENEVSGDETPAGVGNLSTKTASKTSLTFR...   \n",
       "1      O14329  CHEBI:10113  MTQNHNIPTAIQIQNPINNNVSVTISDQLPKPSANNPNLLSVDTRP...   \n",
       "2      O42976   CHEBI:9266  MKEENGFAGFLNTAVNRLSGVLNDTAPTKSQSLKNGVNNEGNRGFS...   \n",
       "3      O74969   CHEBI:5256  MGFKRGKNFTLVMLIFVSMAGWMFGADTGSIGGVTSMRDFRERYAD...   \n",
       "4      O76082  CHEBI:23038  MRDYDEVTAFLGEWGPFQRLIFFLLSASIIPNGFTGLSSVFLIATP...   \n",
       "...       ...          ...                                                ...   \n",
       "15859  Q8HVW3  CHEBI:15378  MFPMVTEFMNYGQQTVRAARYIGQGFTITLSHANRLPVTIQYPYEK...   \n",
       "15860  Q2MII3  CHEBI:15378  MNSIQFPLLDRTAPNSVISTTLNDLSNWSRLSSLWPLLYGTSCCFI...   \n",
       "15861  A6TAW7  CHEBI:15378  MEISYGRALWRNFLGQSPDWYKLALIIFLIVNPLVFAVAPFVAGWL...   \n",
       "15862  A6TAW7  CHEBI:29101  MEISYGRALWRNFLGQSPDWYKLALIIFLIVNPLVFAVAPFVAGWL...   \n",
       "15863  B0BZW3  CHEBI:15378  MLKFLNQVTSYGKESFQAARYIGQGLAVTFDHMKRRPITVQYPYEK...   \n",
       "\n",
       "       GOA  TCDB  SWISS  \n",
       "0        1     0      0  \n",
       "1        1     0      0  \n",
       "2        1     0      0  \n",
       "3        1     0      0  \n",
       "4        1     0      0  \n",
       "...    ...   ...    ...  \n",
       "15859    0     0      1  \n",
       "15860    0     0      1  \n",
       "15861    0     0      1  \n",
       "15862    0     0      1  \n",
       "15863    0     0      1  \n",
       "\n",
       "[38690 rows x 6 columns]"
      ]
     },
     "execution_count": 5,
     "metadata": {},
     "output_type": "execute_result"
    }
   ],
   "source": [
    "df_transporter = pd.concat([pd.concat([df_GOA, df_TCDB]), df_Uniprot])\n",
    "df_transporter = df_transporter.loc[~pd.isnull(df_transporter[\"ChEBI\"])]\n",
    "df_transporter.drop(columns = [\"Entry\"], inplace = True)\n",
    "df_transporter"
   ]
  },
  {
   "cell_type": "markdown",
   "metadata": {},
   "source": [
    "#### Chekcing for TCDB entries in the UniProt database:"
   ]
  },
  {
   "cell_type": "code",
   "execution_count": 8,
   "metadata": {},
   "outputs": [
    {
     "data": {
      "image/png": "[encoded data removed]",
      "text/plain": [
       "<Figure size 864x576 with 1 Axes>"
      ]
     },
     "metadata": {
      "needs_background": "light"
     },
     "output_type": "display_data"
    }
   ],
   "source": [
    "fig, ax = plt.subplots(figsize= (12,8))\n",
    "plt.rcParams.update({'font.size': 28})\n",
    "\n",
    "df_TCDB = pd.read_csv(join(\"..\", \"..\", \"data\", \"TCDB\", \"database_without_inchi.csv\"))\n",
    "TCDB_UIDs = list(set(df_TCDB[\"UniProt\"]))\n",
    "TCDB_UIDs\n",
    "\n",
    "with open(\"TCDB_UIDs\", \"w\") as file:\n",
    "    # Write each list item as a line in the file\n",
    "    file.writelines(item + \"\\n\" for item in TCDB_UIDs)\n",
    "    \n",
    "df_tcdb = pd.read_csv(join(\"..\", \"..\", \"data\", \"tcdb\", \n",
    "                           \"uniprot-download_true_fields_accession_2Ccc_catalytic_activity_2Cgo_-2023.05.16-05.36.44.25.tsv\"),\n",
    "                      sep = \"\\t\")\n",
    "\n",
    "\n",
    "bins = [1,2,3,4,5]\n",
    "heights = [len(df_tcdb.loc[df_tcdb[\"Annotation\"] == bins[i]]) for i in range(len(bins))]\n",
    "\n",
    "ticks = [1000,2000,3000,4000]\n",
    "ax.set_yticks(ticks)\n",
    "ax.set_yticklabels(ticks,  y= -0.03, fontsize=26)\n",
    "\n",
    "plt.bar(bins, height = heights,  color= \"navy\")\n",
    "\n",
    "plt.ylabel('Number of data points')\n",
    "ax.yaxis.set_label_coords(-0.13, 0.5)\n",
    "plt.xlabel('UniProt annotation score')\n",
    "plt.savefig(join(\"..\", \"..\", \"figures\", \"TCDB_annotation_score.svg\"))\n",
    "plt.show()"
   ]
  },
  {
   "cell_type": "code",
   "execution_count": 7,
   "metadata": {
    "scrolled": true
   },
   "outputs": [
    {
     "data": {
      "text/plain": [
       "0.5375904956376462"
      ]
     },
     "execution_count": 7,
     "metadata": {},
     "output_type": "execute_result"
    }
   ],
   "source": [
    "len(df_tcdb.loc[df_tcdb[\"Annotation\"] <=2])/len(df_tcdb)"
   ]
  },
  {
   "cell_type": "markdown",
   "metadata": {},
   "source": [
    "Reomving entries from the TCDB:"
   ]
  },
  {
   "cell_type": "code",
   "execution_count": 7,
   "metadata": {},
   "outputs": [],
   "source": [
    "df_transporter = df_transporter.loc[df_transporter[\"TCDB\"] != 1]\n",
    "df_transporter"
   ]
  },
  {
   "cell_type": "code",
   "execution_count": 9,
   "metadata": {},
   "outputs": [
    {
     "name": "stdout",
     "output_type": "stream",
     "text": [
      "We have 2633 duplciated data points in the databases\n"
     ]
    }
   ],
   "source": [
    "df_Uniprot = pd.DataFrame({\"Uniprot ID\" : df_transporter[\"UniProt\"],\n",
    "                          \"Sequence\" : df_transporter[\"Sequence\"]})\n",
    "\n",
    "n = len(df_transporter)\n",
    "df_transporter = df_transporter.groupby([\"Sequence\", \"ChEBI\"], as_index= False).mean()\n",
    "\n",
    "print(\"We have %s duplciated data points in the databases\" % (n -len(df_transporter)))\n",
    "\n",
    "\n",
    "df_transporter[\"Uniprot ID\"] = [list(df_Uniprot[\"Uniprot ID\"].loc[df_Uniprot[\"Sequence\"] == seq])[0] \n",
    "                                for seq in df_transporter[\"Sequence\"]]"
   ]
  },
  {
   "cell_type": "code",
   "execution_count": 11,
   "metadata": {},
   "outputs": [],
   "source": [
    "df_transporter.to_pickle(join(\"..\", \"..\", \"data\", \"Transporter_merged.pkl\"))"
   ]
  },
  {
   "cell_type": "code",
   "execution_count": 12,
   "metadata": {},
   "outputs": [
    {
     "name": "stdout",
     "output_type": "stream",
     "text": [
      "18006\n",
      "Number of different sequences: 13777\n",
      "Number of different ChEBI IDs: 509\n",
      "Number of different Uniprot IDs: 13777\n"
     ]
    }
   ],
   "source": [
    "print(len(df_transporter))\n",
    "print(\"Number of different sequences: %s\\\n",
    "\\nNumber of different ChEBI IDs: %s\\\n",
    "\\nNumber of different Uniprot IDs: %s\" \n",
    "      % (len(set(list(df_transporter[\"Sequence\"]))), len(set(list(df_transporter[\"ChEBI\"]))),len(set(list(df_transporter[\"Uniprot ID\"]))) ))"
   ]
  },
  {
   "cell_type": "code",
   "execution_count": null,
   "metadata": {},
   "outputs": [],
   "source": []
  }
 ],
 "metadata": {
  "kernelspec": {
   "display_name": "Python 3 (ipykernel)",
   "language": "python",
   "name": "python3"
  },
  "language_info": {
   "codemirror_mode": {
    "name": "ipython",
    "version": 3
   },
   "file_extension": ".py",
   "mimetype": "text/x-python",
   "name": "python",
   "nbconvert_exporter": "python",
   "pygments_lexer": "ipython3",
   "version": "3.7.13"
  }
 },
 "nbformat": 4,
 "nbformat_minor": 4
}
