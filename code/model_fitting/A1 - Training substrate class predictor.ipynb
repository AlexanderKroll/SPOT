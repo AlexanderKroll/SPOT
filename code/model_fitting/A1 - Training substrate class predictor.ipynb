{
 "cells": [
  {
   "cell_type": "code",
   "execution_count": 5,
   "metadata": {},
   "outputs": [
    {
     "name": "stderr",
     "output_type": "stream",
     "text": [
      "\n",
      "Bad key text.latex.preview in file CCB_plot_style_0v4.mplstyle, line 55 ('text.latex.preview  : False')\n",
      "You probably need to get an updated matplotlibrc file from\n",
      "https://github.com/matplotlib/matplotlib/blob/v3.5.3/matplotlibrc.template\n",
      "or from the matplotlib source distribution\n",
      "\n",
      "Bad key mathtext.fallback_to_cm in file CCB_plot_style_0v4.mplstyle, line 63 ('mathtext.fallback_to_cm : True ## When True, use symbols from the Computer Modern fonts')\n",
      "You probably need to get an updated matplotlibrc file from\n",
      "https://github.com/matplotlib/matplotlib/blob/v3.5.3/matplotlibrc.template\n",
      "or from the matplotlib source distribution\n"
     ]
    }
   ],
   "source": [
    "import pandas as pd\n",
    "import numpy as np\n",
    "import random\n",
    "import pickle\n",
    "import sys\n",
    "import os\n",
    "import logging\n",
    "from os.path import join\n",
    "from sklearn.model_selection import KFold\n",
    "from sklearn.metrics import roc_auc_score\n",
    "#from hyperopt import fmin, tpe, hp, Trials, rand\n",
    "import xgboost as xgb\n",
    "from sklearn.metrics import matthews_corrcoef\n",
    "\n",
    "import matplotlib.pyplot as plt\n",
    "import matplotlib as mpl\n",
    "import seaborn as sns\n",
    "\n",
    "plt.style.use('CCB_plot_style_0v4.mplstyle');\n",
    "c_styles      = mpl.rcParams['axes.prop_cycle'].by_key()['color']   # fetch the defined color styles\n",
    "high_contrast = ['#004488', '#DDAA33', '#BB5566', '#000000']"
   ]
  },
  {
   "cell_type": "markdown",
   "metadata": {},
   "source": [
    "## 1. Loading and preprocessing data for model training and evaluation"
   ]
  },
  {
   "cell_type": "markdown",
   "metadata": {},
   "source": [
    "### (a) Loading data: "
   ]
  },
  {
   "cell_type": "code",
   "execution_count": 6,
   "metadata": {},
   "outputs": [],
   "source": [
    "data_train = pd.read_pickle(join(\"..\", \"..\", \"data\", \"substrate_classes\",  \"df_train.pkl\"))\n",
    "data_test = pd.read_pickle(join(\"..\", \"..\", \"data\", \"substrate_classes\",  \"df_test.pkl\"))\n",
    "\n",
    "data_train.reset_index(inplace = True, drop = True)\n",
    "data_test.reset_index(inplace = True, drop = True)"
   ]
  },
  {
   "cell_type": "code",
   "execution_count": 7,
   "metadata": {},
   "outputs": [
    {
     "data": {
      "text/plain": [
       "(11664, 2333)"
      ]
     },
     "execution_count": 7,
     "metadata": {},
     "output_type": "execute_result"
    }
   ],
   "source": [
    "len(data_train) + len(data_test), len(data_test)"
   ]
  },
  {
   "cell_type": "code",
   "execution_count": 8,
   "metadata": {},
   "outputs": [],
   "source": [
    "train_indices = np.load(join(\"..\", \"..\", \"data\", \"substrate_classes\",\"splits\", \"CV_train_indices_categories.npy\"), allow_pickle = True)\n",
    "test_indices = np.load(join(\"..\", \"..\", \"data\", \"substrate_classes\", \"splits\", \"CV_test_indices_categories.npy\"), allow_pickle = True)"
   ]
  },
  {
   "cell_type": "markdown",
   "metadata": {},
   "source": [
    "## 2. Hyperparameter optimization ESM-1b vectors"
   ]
  },
  {
   "cell_type": "markdown",
   "metadata": {},
   "source": [
    "#### (i) Creating numpy arrays with input vectors and output variables"
   ]
  },
  {
   "cell_type": "code",
   "execution_count": 9,
   "metadata": {},
   "outputs": [],
   "source": [
    "categories = [\"anion\", \"cation\", \"sugar\", \"amino acid\" , \"protein\", \"electron\", \"other\"]\n",
    "c_to_y ={\"anion\" : 0, \"cation\" : 1, \"sugar\": 2, \"amino acid\" : 3, \"protein\" : 4, \"electron\" : 5, \"other\" : 6}"
   ]
  },
  {
   "cell_type": "code",
   "execution_count": 10,
   "metadata": {},
   "outputs": [
    {
     "name": "stdout",
     "output_type": "stream",
     "text": [
      "anion : 625\n",
      "cation : 6914\n",
      "sugar : 350\n",
      "amino acid : 282\n",
      "protein : 105\n",
      "electron : 77\n",
      "other : 978\n"
     ]
    }
   ],
   "source": [
    "for categorie in categories:\n",
    "    print(\"%s : %s\"  % (categorie, sum(data_train[categorie])))"
   ]
  },
  {
   "cell_type": "code",
   "execution_count": 11,
   "metadata": {},
   "outputs": [
    {
     "name": "stdout",
     "output_type": "stream",
     "text": [
      "anion : 133\n",
      "cation : 1709\n",
      "sugar : 93\n",
      "amino acid : 70\n",
      "protein : 35\n",
      "electron : 25\n",
      "other : 268\n"
     ]
    }
   ],
   "source": [
    "for categorie in categories:\n",
    "    print(\"%s : %s\"  % (categorie, sum(data_test[categorie])))"
   ]
  },
  {
   "cell_type": "code",
   "execution_count": 12,
   "metadata": {},
   "outputs": [
    {
     "name": "stderr",
     "output_type": "stream",
     "text": [
      "C:\\Users\\alexk\\anaconda3\\envs\\Transport\\lib\\site-packages\\ipykernel_launcher.py:5: SettingWithCopyWarning: \n",
      "A value is trying to be set on a copy of a slice from a DataFrame\n",
      "\n",
      "See the caveats in the documentation: https://pandas.pydata.org/pandas-docs/stable/user_guide/indexing.html#returning-a-view-versus-a-copy\n",
      "  \"\"\"\n",
      "C:\\Users\\alexk\\anaconda3\\envs\\Transport\\lib\\site-packages\\ipykernel_launcher.py:12: SettingWithCopyWarning: \n",
      "A value is trying to be set on a copy of a slice from a DataFrame\n",
      "\n",
      "See the caveats in the documentation: https://pandas.pydata.org/pandas-docs/stable/user_guide/indexing.html#returning-a-view-versus-a-copy\n",
      "  if sys.path[0] == '':\n"
     ]
    }
   ],
   "source": [
    "data_train[\"outcome\"] = np.nan\n",
    "\n",
    "for ind in data_train.index:\n",
    "    c = np.array(categories)[np.array(data_train[categories].loc[ind]) == 1][0]\n",
    "    data_train[\"outcome\"][ind] = c_to_y[c]\n",
    "    \n",
    "    \n",
    "data_test[\"outcome\"] = np.nan\n",
    "\n",
    "for ind in data_test.index:\n",
    "    c = np.array(categories)[np.array(data_test[categories].loc[ind]) == 1][0]\n",
    "    data_test[\"outcome\"][ind] = c_to_y[c]"
   ]
  },
  {
   "cell_type": "code",
   "execution_count": 13,
   "metadata": {},
   "outputs": [
    {
     "data": {
      "text/plain": [
       "(9331, 2333, 11664)"
      ]
     },
     "execution_count": 13,
     "metadata": {},
     "output_type": "execute_result"
    }
   ],
   "source": [
    "len(data_train), len(data_test), len(data_train) + len(data_test)"
   ]
  },
  {
   "cell_type": "code",
   "execution_count": 14,
   "metadata": {},
   "outputs": [],
   "source": [
    "def create_input_and_output_data(df):\n",
    "    X = ();\n",
    "    y = ();\n",
    "    \n",
    "    for ind in df.index:\n",
    "        X = X +(df[\"ESM1b\"][ind], );\n",
    "        y = y + (int(df[\"outcome\"][ind]), );\n",
    "    return(X,y)\n",
    "\n",
    "train_X, train_y =  create_input_and_output_data(df = data_train)\n",
    "test_X, test_y =  create_input_and_output_data(df = data_test)\n",
    "\n",
    "\n",
    "feature_names = [\"ESM1b_\" + str(i) for i in range(1280)]\n",
    "\n",
    "train_X = np.array(train_X)\n",
    "test_X  = np.array(test_X)\n",
    "\n",
    "train_y = np.array(train_y)\n",
    "test_y  = np.array(test_y)"
   ]
  },
  {
   "cell_type": "markdown",
   "metadata": {},
   "source": [
    "#### (ii) Performing hyperparameter optimization"
   ]
  },
  {
   "cell_type": "code",
   "execution_count": 15,
   "metadata": {},
   "outputs": [],
   "source": [
    "'''def cross_validation_neg_acc_gradient_boosting(param):\n",
    "    num_round = param[\"num_rounds\"]\n",
    "    param[\"tree_method\"] = \"gpu_hist\"\n",
    "    param[\"sampling_method\"] = \"gradient_based\"\n",
    "    param['objective'] = 'multi:softmax'\n",
    "    param[\"num_class\"] = 7\n",
    "    param['eval_metric'] = 'mlogloss'\n",
    "    del param[\"num_rounds\"]\n",
    "    \n",
    "    acc = []\n",
    "    for i in range(5):\n",
    "        train_index, test_index  = train_indices[i], test_indices[i]\n",
    "        dtrain = xgb.DMatrix(np.array(train_X[train_index]),\n",
    "                         label = np.array(train_y[train_index]))\n",
    "        dvalid = xgb.DMatrix(np.array(train_X[test_index]))\n",
    "        bst = xgb.train(param,  dtrain, int(num_round), verbose_eval=1)\n",
    "        y_valid_pred = np.round(bst.predict(dvalid))\n",
    "        validation_y = train_y[test_index]\n",
    "    \n",
    "        acc.append(np.mean(y_valid_pred == np.array(validation_y)))\n",
    "    return(-np.mean(acc))\n",
    "\n",
    "#Defining search space for hyperparameter optimization\n",
    "space_gradient_boosting = {\"learning_rate\": hp.uniform(\"learning_rate\", 0.01, 0.5),\n",
    "    \"max_depth\": hp.choice(\"max_depth\", [7,8,9,10,11,12,13]),\n",
    "    \"reg_lambda\": hp.uniform(\"reg_lambda\", 0, 5),\n",
    "    \"reg_alpha\": hp.uniform(\"reg_alpha\", 0, 5),\n",
    "    \"max_delta_step\": hp.uniform(\"max_delta_step\", 0, 5),\n",
    "    \"min_child_weight\": hp.uniform(\"min_child_weight\", 0.1, 15),\n",
    "    \"num_rounds\":  hp.uniform(\"num_rounds\", 200, 400)}''';"
   ]
  },
  {
   "cell_type": "markdown",
   "metadata": {},
   "source": [
    "#### (iii) Performing a random grid search:"
   ]
  },
  {
   "cell_type": "code",
   "execution_count": 16,
   "metadata": {},
   "outputs": [],
   "source": [
    "'''trials = Trials()\n",
    "\n",
    "for i in range(1,2000):\n",
    "    best = fmin(fn = cross_validation_neg_acc_gradient_boosting, space = space_gradient_boosting,\n",
    "                algo = rand.suggest, max_evals = i, trials = trials)\n",
    "    np.save(join(CURRENT_DIR, \"..\" ,\"data\", \"results\", \"cross_validation_binding_ESM1b.npy\"), trials.best_trial)\n",
    "    np.save(join(CURRENT_DIR, \"..\" ,\"data\", \"results\", \"cross_validation_binding_ESM1b_argmin.npy\"), trials.argmin)\n",
    "    logging.info(i)\n",
    "    logging.info(trials.best_trial[\"result\"][\"loss\"])\n",
    "    logging.info(trials.argmin)''';"
   ]
  },
  {
   "cell_type": "markdown",
   "metadata": {},
   "source": [
    "Best set of hyperparameters:"
   ]
  },
  {
   "cell_type": "code",
   "execution_count": 17,
   "metadata": {},
   "outputs": [],
   "source": [
    "param = {'learning_rate': 0.2339095120993189,\n",
    "         'max_delta_step': 4.992217561409725,\n",
    "         'max_depth': 8,\n",
    "         'min_child_weight': 1.3482539801691398,\n",
    "         'num_rounds': 188.30943054415226,\n",
    "         'reg_alpha': 0.018345192687114764,\n",
    "         'reg_lambda': 4.059148989627829,\n",
    "         'weight': 0.1541792686974357}\n",
    "\n",
    "num_round = param[\"num_rounds\"]\n",
    "param[\"tree_method\"] = \"gpu_hist\"\n",
    "param[\"sampling_method\"] = \"gradient_based\"\n",
    "param['objective'] = 'multi:softmax'\n",
    "param[\"num_class\"] = 7\n",
    "param['eval_metric'] = 'mlogloss'\n",
    "\n",
    "del param[\"num_rounds\"]\n",
    "weight = param[\"weight\"]\n",
    "weights = np.array([param[\"weight\"] if y == 1 else 1.0 for y in data_train[\"outcome\"]])\n",
    "del param[\"weight\"]"
   ]
  },
  {
   "cell_type": "code",
   "execution_count": 18,
   "metadata": {
    "scrolled": true
   },
   "outputs": [
    {
     "name": "stderr",
     "output_type": "stream",
     "text": [
      "C:\\Users\\alexk\\anaconda3\\envs\\Transport\\lib\\site-packages\\xgboost\\core.py:528: FutureWarning: Pass `evals` as keyword args.  Passing these as positional arguments will be considered as error in future releases.\n",
      "  format(\", \".join(args_msg)), FutureWarning\n"
     ]
    },
    {
     "name": "stdout",
     "output_type": "stream",
     "text": [
      "[0]\teval-mlogloss:1.34083\ttrain-mlogloss:1.30741\n",
      "[1]\teval-mlogloss:1.04593\ttrain-mlogloss:0.99187\n",
      "[2]\teval-mlogloss:0.84890\ttrain-mlogloss:0.77817\n",
      "[3]\teval-mlogloss:0.70688\ttrain-mlogloss:0.62206\n",
      "[4]\teval-mlogloss:0.60158\ttrain-mlogloss:0.50564\n",
      "[5]\teval-mlogloss:0.51664\ttrain-mlogloss:0.41267\n",
      "[6]\teval-mlogloss:0.45063\ttrain-mlogloss:0.33919\n",
      "[7]\teval-mlogloss:0.39754\ttrain-mlogloss:0.27975\n",
      "[8]\teval-mlogloss:0.35482\ttrain-mlogloss:0.23219\n",
      "[9]\teval-mlogloss:0.32147\ttrain-mlogloss:0.19513\n",
      "[10]\teval-mlogloss:0.29380\ttrain-mlogloss:0.16434\n",
      "[11]\teval-mlogloss:0.26952\ttrain-mlogloss:0.13827\n",
      "[12]\teval-mlogloss:0.25115\ttrain-mlogloss:0.11696\n",
      "[13]\teval-mlogloss:0.23611\ttrain-mlogloss:0.09953\n",
      "[14]\teval-mlogloss:0.22294\ttrain-mlogloss:0.08558\n",
      "[15]\teval-mlogloss:0.21228\ttrain-mlogloss:0.07340\n",
      "[16]\teval-mlogloss:0.20344\ttrain-mlogloss:0.06380\n",
      "[17]\teval-mlogloss:0.19585\ttrain-mlogloss:0.05564\n",
      "[18]\teval-mlogloss:0.19038\ttrain-mlogloss:0.04875\n",
      "[19]\teval-mlogloss:0.18611\ttrain-mlogloss:0.04283\n",
      "[20]\teval-mlogloss:0.18135\ttrain-mlogloss:0.03789\n",
      "[21]\teval-mlogloss:0.17739\ttrain-mlogloss:0.03363\n",
      "[22]\teval-mlogloss:0.17393\ttrain-mlogloss:0.03014\n",
      "[23]\teval-mlogloss:0.17130\ttrain-mlogloss:0.02709\n",
      "[24]\teval-mlogloss:0.16909\ttrain-mlogloss:0.02459\n",
      "[25]\teval-mlogloss:0.16684\ttrain-mlogloss:0.02241\n",
      "[26]\teval-mlogloss:0.16484\ttrain-mlogloss:0.02046\n",
      "[27]\teval-mlogloss:0.16299\ttrain-mlogloss:0.01883\n",
      "[28]\teval-mlogloss:0.16144\ttrain-mlogloss:0.01738\n",
      "[29]\teval-mlogloss:0.16062\ttrain-mlogloss:0.01611\n",
      "[30]\teval-mlogloss:0.15937\ttrain-mlogloss:0.01497\n",
      "[31]\teval-mlogloss:0.15850\ttrain-mlogloss:0.01395\n",
      "[32]\teval-mlogloss:0.15746\ttrain-mlogloss:0.01305\n",
      "[33]\teval-mlogloss:0.15715\ttrain-mlogloss:0.01226\n",
      "[34]\teval-mlogloss:0.15629\ttrain-mlogloss:0.01153\n",
      "[35]\teval-mlogloss:0.15520\ttrain-mlogloss:0.01090\n",
      "[36]\teval-mlogloss:0.15497\ttrain-mlogloss:0.01032\n",
      "[37]\teval-mlogloss:0.15456\ttrain-mlogloss:0.00978\n",
      "[38]\teval-mlogloss:0.15360\ttrain-mlogloss:0.00930\n",
      "[39]\teval-mlogloss:0.15320\ttrain-mlogloss:0.00887\n",
      "[40]\teval-mlogloss:0.15271\ttrain-mlogloss:0.00847\n",
      "[41]\teval-mlogloss:0.15232\ttrain-mlogloss:0.00812\n",
      "[42]\teval-mlogloss:0.15203\ttrain-mlogloss:0.00779\n",
      "[43]\teval-mlogloss:0.15168\ttrain-mlogloss:0.00747\n",
      "[44]\teval-mlogloss:0.15120\ttrain-mlogloss:0.00718\n",
      "[45]\teval-mlogloss:0.15107\ttrain-mlogloss:0.00692\n",
      "[46]\teval-mlogloss:0.15107\ttrain-mlogloss:0.00667\n",
      "[47]\teval-mlogloss:0.15063\ttrain-mlogloss:0.00644\n",
      "[48]\teval-mlogloss:0.15013\ttrain-mlogloss:0.00623\n",
      "[49]\teval-mlogloss:0.15027\ttrain-mlogloss:0.00604\n",
      "[50]\teval-mlogloss:0.15010\ttrain-mlogloss:0.00585\n",
      "[51]\teval-mlogloss:0.14978\ttrain-mlogloss:0.00567\n",
      "[52]\teval-mlogloss:0.14979\ttrain-mlogloss:0.00552\n",
      "[53]\teval-mlogloss:0.14978\ttrain-mlogloss:0.00536\n",
      "[54]\teval-mlogloss:0.14943\ttrain-mlogloss:0.00522\n",
      "[55]\teval-mlogloss:0.14938\ttrain-mlogloss:0.00508\n",
      "[56]\teval-mlogloss:0.14942\ttrain-mlogloss:0.00494\n",
      "[57]\teval-mlogloss:0.14917\ttrain-mlogloss:0.00482\n",
      "[58]\teval-mlogloss:0.14860\ttrain-mlogloss:0.00470\n",
      "[59]\teval-mlogloss:0.14843\ttrain-mlogloss:0.00459\n",
      "[60]\teval-mlogloss:0.14822\ttrain-mlogloss:0.00448\n",
      "[61]\teval-mlogloss:0.14796\ttrain-mlogloss:0.00438\n",
      "[62]\teval-mlogloss:0.14778\ttrain-mlogloss:0.00428\n",
      "[63]\teval-mlogloss:0.14756\ttrain-mlogloss:0.00419\n",
      "[64]\teval-mlogloss:0.14704\ttrain-mlogloss:0.00410\n",
      "[65]\teval-mlogloss:0.14704\ttrain-mlogloss:0.00401\n",
      "[66]\teval-mlogloss:0.14700\ttrain-mlogloss:0.00393\n",
      "[67]\teval-mlogloss:0.14709\ttrain-mlogloss:0.00386\n",
      "[68]\teval-mlogloss:0.14694\ttrain-mlogloss:0.00378\n",
      "[69]\teval-mlogloss:0.14680\ttrain-mlogloss:0.00371\n",
      "[70]\teval-mlogloss:0.14687\ttrain-mlogloss:0.00365\n",
      "[71]\teval-mlogloss:0.14691\ttrain-mlogloss:0.00358\n",
      "[72]\teval-mlogloss:0.14683\ttrain-mlogloss:0.00352\n",
      "[73]\teval-mlogloss:0.14698\ttrain-mlogloss:0.00346\n",
      "[74]\teval-mlogloss:0.14696\ttrain-mlogloss:0.00340\n",
      "[75]\teval-mlogloss:0.14698\ttrain-mlogloss:0.00334\n",
      "[76]\teval-mlogloss:0.14683\ttrain-mlogloss:0.00329\n",
      "[77]\teval-mlogloss:0.14666\ttrain-mlogloss:0.00324\n",
      "[78]\teval-mlogloss:0.14647\ttrain-mlogloss:0.00319\n",
      "[79]\teval-mlogloss:0.14640\ttrain-mlogloss:0.00314\n",
      "[80]\teval-mlogloss:0.14627\ttrain-mlogloss:0.00309\n",
      "[81]\teval-mlogloss:0.14614\ttrain-mlogloss:0.00305\n",
      "[82]\teval-mlogloss:0.14608\ttrain-mlogloss:0.00300\n",
      "[83]\teval-mlogloss:0.14603\ttrain-mlogloss:0.00296\n",
      "[84]\teval-mlogloss:0.14618\ttrain-mlogloss:0.00292\n",
      "[85]\teval-mlogloss:0.14602\ttrain-mlogloss:0.00288\n",
      "[86]\teval-mlogloss:0.14606\ttrain-mlogloss:0.00285\n",
      "[87]\teval-mlogloss:0.14605\ttrain-mlogloss:0.00281\n",
      "[88]\teval-mlogloss:0.14600\ttrain-mlogloss:0.00277\n",
      "[89]\teval-mlogloss:0.14606\ttrain-mlogloss:0.00274\n",
      "[90]\teval-mlogloss:0.14603\ttrain-mlogloss:0.00270\n",
      "[91]\teval-mlogloss:0.14621\ttrain-mlogloss:0.00267\n",
      "[92]\teval-mlogloss:0.14613\ttrain-mlogloss:0.00264\n",
      "[93]\teval-mlogloss:0.14613\ttrain-mlogloss:0.00260\n",
      "[94]\teval-mlogloss:0.14609\ttrain-mlogloss:0.00258\n",
      "[95]\teval-mlogloss:0.14621\ttrain-mlogloss:0.00254\n",
      "[96]\teval-mlogloss:0.14626\ttrain-mlogloss:0.00252\n",
      "[97]\teval-mlogloss:0.14617\ttrain-mlogloss:0.00249\n",
      "[98]\teval-mlogloss:0.14618\ttrain-mlogloss:0.00246\n",
      "[99]\teval-mlogloss:0.14635\ttrain-mlogloss:0.00244\n",
      "[100]\teval-mlogloss:0.14638\ttrain-mlogloss:0.00241\n",
      "[101]\teval-mlogloss:0.14635\ttrain-mlogloss:0.00238\n",
      "[102]\teval-mlogloss:0.14631\ttrain-mlogloss:0.00236\n",
      "[103]\teval-mlogloss:0.14637\ttrain-mlogloss:0.00234\n",
      "[104]\teval-mlogloss:0.14636\ttrain-mlogloss:0.00231\n",
      "[105]\teval-mlogloss:0.14624\ttrain-mlogloss:0.00229\n",
      "[106]\teval-mlogloss:0.14620\ttrain-mlogloss:0.00227\n",
      "[107]\teval-mlogloss:0.14617\ttrain-mlogloss:0.00225\n",
      "[108]\teval-mlogloss:0.14623\ttrain-mlogloss:0.00223\n",
      "[109]\teval-mlogloss:0.14611\ttrain-mlogloss:0.00220\n",
      "[110]\teval-mlogloss:0.14616\ttrain-mlogloss:0.00218\n",
      "[111]\teval-mlogloss:0.14614\ttrain-mlogloss:0.00216\n",
      "[112]\teval-mlogloss:0.14611\ttrain-mlogloss:0.00215\n",
      "[113]\teval-mlogloss:0.14610\ttrain-mlogloss:0.00213\n",
      "[114]\teval-mlogloss:0.14611\ttrain-mlogloss:0.00211\n",
      "[115]\teval-mlogloss:0.14602\ttrain-mlogloss:0.00209\n",
      "[116]\teval-mlogloss:0.14594\ttrain-mlogloss:0.00207\n",
      "[117]\teval-mlogloss:0.14602\ttrain-mlogloss:0.00205\n",
      "[118]\teval-mlogloss:0.14594\ttrain-mlogloss:0.00204\n",
      "[119]\teval-mlogloss:0.14602\ttrain-mlogloss:0.00202\n",
      "[120]\teval-mlogloss:0.14612\ttrain-mlogloss:0.00201\n",
      "[121]\teval-mlogloss:0.14619\ttrain-mlogloss:0.00199\n",
      "[122]\teval-mlogloss:0.14629\ttrain-mlogloss:0.00198\n",
      "[123]\teval-mlogloss:0.14629\ttrain-mlogloss:0.00196\n",
      "[124]\teval-mlogloss:0.14624\ttrain-mlogloss:0.00195\n",
      "[125]\teval-mlogloss:0.14611\ttrain-mlogloss:0.00193\n",
      "[126]\teval-mlogloss:0.14588\ttrain-mlogloss:0.00192\n",
      "[127]\teval-mlogloss:0.14596\ttrain-mlogloss:0.00190\n",
      "[128]\teval-mlogloss:0.14588\ttrain-mlogloss:0.00189\n",
      "[129]\teval-mlogloss:0.14578\ttrain-mlogloss:0.00188\n",
      "[130]\teval-mlogloss:0.14576\ttrain-mlogloss:0.00186\n",
      "[131]\teval-mlogloss:0.14583\ttrain-mlogloss:0.00185\n",
      "[132]\teval-mlogloss:0.14577\ttrain-mlogloss:0.00183\n",
      "[133]\teval-mlogloss:0.14583\ttrain-mlogloss:0.00182\n",
      "[134]\teval-mlogloss:0.14575\ttrain-mlogloss:0.00181\n",
      "[135]\teval-mlogloss:0.14584\ttrain-mlogloss:0.00180\n",
      "[136]\teval-mlogloss:0.14582\ttrain-mlogloss:0.00178\n",
      "[137]\teval-mlogloss:0.14574\ttrain-mlogloss:0.00177\n",
      "[138]\teval-mlogloss:0.14590\ttrain-mlogloss:0.00176\n",
      "[139]\teval-mlogloss:0.14587\ttrain-mlogloss:0.00175\n",
      "[140]\teval-mlogloss:0.14588\ttrain-mlogloss:0.00174\n",
      "[141]\teval-mlogloss:0.14576\ttrain-mlogloss:0.00173\n",
      "[142]\teval-mlogloss:0.14557\ttrain-mlogloss:0.00172\n",
      "[143]\teval-mlogloss:0.14573\ttrain-mlogloss:0.00171\n",
      "[144]\teval-mlogloss:0.14568\ttrain-mlogloss:0.00170\n",
      "[145]\teval-mlogloss:0.14559\ttrain-mlogloss:0.00169\n",
      "[146]\teval-mlogloss:0.14555\ttrain-mlogloss:0.00168\n",
      "[147]\teval-mlogloss:0.14550\ttrain-mlogloss:0.00167\n",
      "[148]\teval-mlogloss:0.14557\ttrain-mlogloss:0.00166\n",
      "[149]\teval-mlogloss:0.14561\ttrain-mlogloss:0.00165\n",
      "[150]\teval-mlogloss:0.14559\ttrain-mlogloss:0.00164\n",
      "[151]\teval-mlogloss:0.14552\ttrain-mlogloss:0.00163\n",
      "[152]\teval-mlogloss:0.14546\ttrain-mlogloss:0.00162\n",
      "[153]\teval-mlogloss:0.14548\ttrain-mlogloss:0.00161\n",
      "[154]\teval-mlogloss:0.14545\ttrain-mlogloss:0.00160\n",
      "[155]\teval-mlogloss:0.14532\ttrain-mlogloss:0.00159\n",
      "[156]\teval-mlogloss:0.14544\ttrain-mlogloss:0.00158\n",
      "[157]\teval-mlogloss:0.14544\ttrain-mlogloss:0.00157\n",
      "[158]\teval-mlogloss:0.14534\ttrain-mlogloss:0.00157\n",
      "[159]\teval-mlogloss:0.14534\ttrain-mlogloss:0.00156\n",
      "[160]\teval-mlogloss:0.14530\ttrain-mlogloss:0.00155\n",
      "[161]\teval-mlogloss:0.14530\ttrain-mlogloss:0.00154\n",
      "[162]\teval-mlogloss:0.14530\ttrain-mlogloss:0.00153\n"
     ]
    },
    {
     "name": "stdout",
     "output_type": "stream",
     "text": [
      "[163]\teval-mlogloss:0.14531\ttrain-mlogloss:0.00153\n",
      "[164]\teval-mlogloss:0.14529\ttrain-mlogloss:0.00152\n",
      "[165]\teval-mlogloss:0.14526\ttrain-mlogloss:0.00151\n",
      "[166]\teval-mlogloss:0.14529\ttrain-mlogloss:0.00150\n",
      "[167]\teval-mlogloss:0.14531\ttrain-mlogloss:0.00150\n",
      "[168]\teval-mlogloss:0.14528\ttrain-mlogloss:0.00149\n",
      "[169]\teval-mlogloss:0.14526\ttrain-mlogloss:0.00148\n",
      "[170]\teval-mlogloss:0.14525\ttrain-mlogloss:0.00147\n",
      "[171]\teval-mlogloss:0.14522\ttrain-mlogloss:0.00147\n",
      "[172]\teval-mlogloss:0.14523\ttrain-mlogloss:0.00146\n",
      "[173]\teval-mlogloss:0.14529\ttrain-mlogloss:0.00145\n",
      "[174]\teval-mlogloss:0.14531\ttrain-mlogloss:0.00145\n",
      "[175]\teval-mlogloss:0.14545\ttrain-mlogloss:0.00144\n",
      "[176]\teval-mlogloss:0.14548\ttrain-mlogloss:0.00143\n",
      "[177]\teval-mlogloss:0.14544\ttrain-mlogloss:0.00143\n",
      "[178]\teval-mlogloss:0.14537\ttrain-mlogloss:0.00142\n",
      "[179]\teval-mlogloss:0.14533\ttrain-mlogloss:0.00141\n",
      "[180]\teval-mlogloss:0.14534\ttrain-mlogloss:0.00141\n",
      "[181]\teval-mlogloss:0.14539\ttrain-mlogloss:0.00140\n",
      "[182]\teval-mlogloss:0.14527\ttrain-mlogloss:0.00140\n",
      "[183]\teval-mlogloss:0.14527\ttrain-mlogloss:0.00139\n",
      "[184]\teval-mlogloss:0.14529\ttrain-mlogloss:0.00138\n",
      "[185]\teval-mlogloss:0.14532\ttrain-mlogloss:0.00138\n",
      "[186]\teval-mlogloss:0.14535\ttrain-mlogloss:0.00137\n",
      "[187]\teval-mlogloss:0.14529\ttrain-mlogloss:0.00137\n",
      "0.951993141877411\n"
     ]
    }
   ],
   "source": [
    "'''acc = []\n",
    "for i in range(5):\n",
    "    train_index, test_index  = train_indices[i], test_indices[i]\n",
    "    dtrain = xgb.DMatrix(np.array(train_X[train_index]), weight = weights[train_index],\n",
    "                     label = np.array(train_y[train_index]))\n",
    "    dvalid = xgb.DMatrix(np.array(train_X[test_index]))\n",
    "    bst = xgb.train(param,  dtrain, int(num_round), verbose_eval=1)\n",
    "    y_valid_pred = np.round(bst.predict(dvalid))\n",
    "    validation_y = train_y[test_index]\n",
    "\n",
    "    acc.append(np.mean(y_valid_pred == np.array(validation_y)))\n",
    "    \n",
    "print(acc)''';\n",
    "\n",
    "\n",
    "dtrain = xgb.DMatrix(np.array(train_X), label = np.array(train_y))\n",
    "dtest = xgb.DMatrix(np.array(test_X), label = np.array(test_y))\n",
    "\n",
    "evallist = [(dtest, 'eval'), (dtrain, 'train')]\n",
    "\n",
    "bst = xgb.train(param,  dtrain, int(num_round), evallist)\n",
    "\n",
    "y_test_pred = np.round(bst.predict(dtest))\n",
    "acc_test = np.mean(y_test_pred == np.array(test_y))\n",
    "\n",
    "print(acc_test)"
   ]
  },
  {
   "cell_type": "code",
   "execution_count": 19,
   "metadata": {},
   "outputs": [],
   "source": [
    "data_test[\"pred\"] = y_test_pred"
   ]
  },
  {
   "cell_type": "markdown",
   "metadata": {},
   "source": [
    "### Validation:"
   ]
  },
  {
   "cell_type": "code",
   "execution_count": 20,
   "metadata": {},
   "outputs": [
    {
     "data": {
      "text/plain": [
       "{'anion': 0,\n",
       " 'cation': 1,\n",
       " 'sugar': 2,\n",
       " 'amino acid': 3,\n",
       " 'protein': 4,\n",
       " 'electron': 5,\n",
       " 'other': 6}"
      ]
     },
     "execution_count": 20,
     "metadata": {},
     "output_type": "execute_result"
    }
   ],
   "source": [
    "{\"anion\" : 0, \"cation\" : 1, \"sugar\": 2, \"amino acid\" : 3, \"protein\" : 4, \"electron\" : 5, \"other\" : 6}"
   ]
  },
  {
   "cell_type": "code",
   "execution_count": 21,
   "metadata": {},
   "outputs": [
    {
     "data": {
      "image/png": "[encoded data removed]",
      "text/plain": [
       "<Figure size 540x540 with 1 Axes>"
      ]
     },
     "metadata": {
      "needs_background": "light"
     },
     "output_type": "display_data"
    }
   ],
   "source": [
    "cross_matrix = np.zeros((8,8)).astype(int)\n",
    "for c in range(7):\n",
    "    class_vector = (test_y == c)\n",
    "    pred_vector = y_test_pred[class_vector]\n",
    "    for i in range(7):\n",
    "        cross_matrix[c, i] = int(np.sum(pred_vector == i))\n",
    "        \n",
    "cross_matrix2 = cross_matrix.copy()\n",
    "\n",
    "cross_matrix = np.zeros((7,7)).astype(float)\n",
    "for c in range(7):\n",
    "    class_vector = y_test_pred == c\n",
    "    true_vector = test_y[class_vector]\n",
    "    for i in range(7):\n",
    "        cross_matrix[i, c] = float(np.sum(true_vector == i)) / sum(class_vector)\n",
    "        \n",
    "\n",
    "fig, ax = plt.subplots(figsize=(7.5, 7.5))\n",
    "ax.matshow(cross_matrix, cmap=plt.cm.Blues, alpha=0.8)\n",
    "\n",
    "\n",
    "        \n",
    "        \n",
    "        \n",
    "ticks = np.array(list(range(7)))\n",
    "labs = ['anion', 'cation', 'sugar', 'amino\\n acid', 'protein', 'electron', 'other']\n",
    "ax.set_xticks(ticks)\n",
    "ax.set_xticklabels(labs,  y= 1.02, fontsize=22)\n",
    "ax.tick_params(axis='x', rotation = 90, bottom = False)\n",
    "\n",
    "\n",
    "ax.set_yticks(ticks)\n",
    "ax.set_yticklabels(labs,  y= 1.02, fontsize=22)\n",
    "ax.tick_params(axis='y', bottom = False)\n",
    "\n",
    "for i in range(cross_matrix.shape[0]):\n",
    "    for j in range(cross_matrix.shape[1]):\n",
    "        ax.text(x=j, y=i,s=cross_matrix2[i, j], va='center', ha='center',  c = \"black\", fontsize = 22)\n",
    "\n",
    "plt.xlabel('Predicted classes', fontsize=28)\n",
    "plt.ylabel('Actual classes', fontsize=28)\n",
    "\n",
    "ax.yaxis.set_label_coords(-0.25, 0.5)\n",
    "ax.xaxis.set_label_coords(0.5,-0.05)\n",
    "\n",
    "#plt.title('Confusion Matrix', fontsize=18)\n",
    "plt.savefig(join(\"..\", \"..\", \"figures\", \"Confusion_matrix_substrate_class.svg\"))\n",
    "plt.show()"
   ]
  },
  {
   "cell_type": "code",
   "execution_count": 22,
   "metadata": {},
   "outputs": [
    {
     "data": {
      "text/plain": [
       "array([[ 121,    6,    0,    1,    0,    0,    5,  133],\n",
       "       [   1, 1692,    2,    0,    0,    0,   14, 1709],\n",
       "       [   1,    3,   85,    0,    0,    0,    4,   93],\n",
       "       [   0,    3,    0,   58,    1,    0,    8,   70],\n",
       "       [   0,   15,    0,    0,   13,    0,    7,   35],\n",
       "       [   0,   13,    0,    0,    0,   11,    1,   25],\n",
       "       [   3,   16,    2,    3,    3,    0,  241,  268],\n",
       "       [ 126, 1748,   89,   62,   17,   11,  280,    0]])"
      ]
     },
     "execution_count": 22,
     "metadata": {},
     "output_type": "execute_result"
    }
   ],
   "source": [
    "cross_matrix = np.zeros((8,8)).astype(int)\n",
    "for c in range(7):\n",
    "    class_vector = (test_y == c)\n",
    "    pred_vector = y_test_pred[class_vector]\n",
    "    for i in range(7):\n",
    "        cross_matrix[c, i] = int(np.sum(pred_vector == i))\n",
    "        \n",
    "        \n",
    "        \n",
    "for i in range(7):\n",
    "    cross_matrix[i, 7] = int(np.sum(cross_matrix[i, :]))\n",
    "    cross_matrix[7, i] = int(np.sum(cross_matrix[:, i]))\n",
    "cross_matrix"
   ]
  },
  {
   "cell_type": "markdown",
   "metadata": {},
   "source": [
    "Calculating per class performance:"
   ]
  },
  {
   "cell_type": "code",
   "execution_count": 52,
   "metadata": {},
   "outputs": [
    {
     "name": "stdout",
     "output_type": "stream",
     "text": [
      "anion & 99.27\\% & 0.93\n",
      "cation & 96.87\\% & 0.92\n",
      "sugar & 99.49\\% & 0.93\n",
      "amino acid & 99.31\\% & 0.88\n",
      "protein & 98.89\\% & 0.53\n",
      "electron & 99.4\\% & 0.66\n",
      "other & 97.17\\% & 0.86\n"
     ]
    }
   ],
   "source": [
    "categories = [\"anion\", \"cation\", \"sugar\", \"amino acid\" , \"protein\", \"electron\", \"other\"]\n",
    "class_label = {\"anion\" : 0, \"cation\" : 1, \"sugar\": 2, \"amino acid\" : 3, \"protein\" : 4, \"electron\" : 5, \"other\" : 6}\n",
    "\n",
    "\n",
    "for c in categories:\n",
    "#c = categories[0]\n",
    "    label = class_label[c]\n",
    "\n",
    "    true_labels = np.array(data_test[c])\n",
    "    pred_labels = np.array([label == data_test[\"pred\"][ind] for ind in data_test.index]).astype(int)\n",
    "    acc = np.mean(pred_labels ==true_labels)\n",
    "    mcc = matthews_corrcoef(true_labels, pred_labels)\n",
    "    TP = np.sum((true_labels == 1) & (pred_labels == 1))\n",
    "    FP = np.sum((true_labels == 0) & (pred_labels == 1))\n",
    "    TN = np.sum((true_labels == 0) & (pred_labels == 0))\n",
    "    FN = np.sum((true_labels == 1) & (pred_labels == 0))\n",
    "    sensitivity = TP / (TP + FN)\n",
    "    specificity = TN / (TN + FP)\n",
    "    metrics = np.round(100*np.array([acc, mcc, specificity, sensitivity]), 2)\n",
    "    \n",
    "    \n",
    "    #print(\"%s & %s\\%% & %s\\%% & %s\\%% & %s\\%%\" %(c, metrics[0], metrics[1], metrics[2], metrics[3]))\n",
    "    print(\"%s & %s\\%% & %s\" %(c, metrics[0], np.round(metrics[1]/100,2)))"
   ]
  },
  {
   "cell_type": "code",
   "execution_count": 31,
   "metadata": {},
   "outputs": [
    {
     "data": {
      "text/plain": [
       "(0.9811138014527845, 0.8992537313432836)"
      ]
     },
     "execution_count": 31,
     "metadata": {},
     "output_type": "execute_result"
    }
   ],
   "source": []
  },
  {
   "cell_type": "code",
   "execution_count": 19,
   "metadata": {},
   "outputs": [
    {
     "name": "stderr",
     "output_type": "stream",
     "text": [
      "C:\\Users\\alexk\\anaconda3\\envs\\Transport\\lib\\site-packages\\ipykernel_launcher.py:4: SettingWithCopyWarning: \n",
      "A value is trying to be set on a copy of a slice from a DataFrame\n",
      "\n",
      "See the caveats in the documentation: https://pandas.pydata.org/pandas-docs/stable/user_guide/indexing.html#returning-a-view-versus-a-copy\n",
      "  after removing the cwd from sys.path.\n"
     ]
    }
   ],
   "source": [
    "data_test[\"ident_pred\"] = np.nan\n",
    "for ind in data_test.index:\n",
    "    if not pd.isnull(data_test[\"max_ind\"][ind]):\n",
    "        data_test[\"ident_pred\"][ind] = data_train[\"outcome\"][data_test[\"max_ind\"][ind]]"
   ]
  },
  {
   "cell_type": "code",
   "execution_count": 23,
   "metadata": {},
   "outputs": [
    {
     "data": {
      "image/png": "[encoded data removed]",
      "text/plain": [
       "<Figure size 864x576 with 1 Axes>"
      ]
     },
     "metadata": {
      "needs_background": "light"
     },
     "output_type": "display_data"
    }
   ],
   "source": [
    "fig, ax = plt.subplots(figsize= (12,8))\n",
    "plt.rcParams.update({'font.size': 28})\n",
    "\n",
    "splits = [\"10-20%\", \"20-30%\", \"30-40%\", \"40-50%\", \"50-60%\", \"60-70%\", \"70-80%\", \"80-90%\", \"90-100%\"]\n",
    "lower_bound = [10,20,30,40,50,60,70,80,90]\n",
    "upper_bound = [20,30,40,50,60,70,80,90,100]\n",
    "\n",
    "accuracies = []\n",
    "n_data_points = []\n",
    "for i, split in enumerate(splits):\n",
    "    help_df = data_test.loc[data_test[\"max_ident\"]> lower_bound[i]]\n",
    "    help_df = help_df.loc[help_df[\"max_ident\"]<= upper_bound[i]]\n",
    "    y_true = np.array(help_df[\"outcome\"])\n",
    "    y_pred = np.array(help_df[\"pred\"])\n",
    "    \n",
    "    acc =  np.mean(y_pred == np.array(y_true))\n",
    "\n",
    "    accuracies.append(acc)\n",
    "    n_data_points.append(len(y_pred))\n",
    "    \n",
    "sub_bins = list(range(9))\n",
    "    \n",
    "plt.bar(sub_bins, height = accuracies,  color= \"navy\")\n",
    "\n",
    "for i in range(9):\n",
    "    if i ==0:\n",
    "        ax.annotate(n_data_points[i], (i-0.2, accuracies[i]-0.1), fontsize=20, c= \"white\", weight = \"bold\")\n",
    "    elif i ==8:\n",
    "        ax.annotate(n_data_points[i], (i-0.4, accuracies[i]-0.1), fontsize=20, c= \"white\", weight = \"bold\")\n",
    "    else:\n",
    "        ax.annotate(n_data_points[i], (i-0.28, accuracies[i]-0.1), fontsize=20, c= \"white\", weight = \"bold\")\n",
    "\n",
    "\n",
    "ticks2 = np.array(range(len(splits)))\n",
    "labs = splits\n",
    "ax.set_xticks(ticks2)\n",
    "ax.set_xticklabels(labs,  y= -0.03, fontsize=26)\n",
    "ax.tick_params(axis='x', length=0, rotation = 60)\n",
    "\n",
    "plt.ylim((0.0,1.1))\n",
    "plt.xlim((-0.5, 9.3))\n",
    "plt.ylabel('Accuracy')\n",
    "plt.xlabel('Protein sequence identity')\n",
    "ax.yaxis.set_label_coords(-0.1, 0.5)\n",
    "ax.xaxis.set_label_coords(0.5,-0.33)\n",
    "\n",
    "sns.lineplot(x=[-1,9.1],y=[1/7,1/7], linestyle='--', color = \"red\")\n",
    "\n",
    "plt.savefig(join(\"..\", \"..\", \"figures\", \"Accuracies_substrate_class.svg\"))\n",
    "plt.show()"
   ]
  },
  {
   "cell_type": "code",
   "execution_count": 21,
   "metadata": {},
   "outputs": [
    {
     "data": {
      "text/plain": [
       "(0.6016597510373444, 241)"
      ]
     },
     "execution_count": 21,
     "metadata": {},
     "output_type": "execute_result"
    }
   ],
   "source": [
    "help_df = data_test.loc[data_test[\"max_ident\"]> 0]\n",
    "help_df = help_df.loc[help_df[\"max_ident\"]< 40]\n",
    "y_true = np.array(help_df[\"outcome\"])\n",
    "y_pred = np.array(help_df[\"pred\"])\n",
    "n_kcat = len(y_pred)\n",
    "acc =  np.mean(y_pred == np.array(y_true))\n",
    "acc, n_kcat"
   ]
  },
  {
   "cell_type": "markdown",
   "metadata": {},
   "source": [
    "Randomly sampling class labels for test data set:"
   ]
  },
  {
   "cell_type": "code",
   "execution_count": 22,
   "metadata": {},
   "outputs": [
    {
     "data": {
      "text/plain": [
       "0.14280094299185597"
      ]
     },
     "execution_count": 22,
     "metadata": {},
     "output_type": "execute_result"
    }
   ],
   "source": [
    "from random import choices\n",
    "\n",
    "accuracies = []\n",
    "for i in range(10000):\n",
    "    random_pred = choices(list(range(7)), k=len(data_test))\n",
    "    accuracies.append(np.mean(random_pred == data_test[\"outcome\"]))\n",
    "np.mean(accuracies)"
   ]
  }
 ],
 "metadata": {
  "kernelspec": {
   "display_name": "Python 3 (ipykernel)",
   "language": "python",
   "name": "python3"
  },
  "language_info": {
   "codemirror_mode": {
    "name": "ipython",
    "version": 3
   },
   "file_extension": ".py",
   "mimetype": "text/x-python",
   "name": "python",
   "nbconvert_exporter": "python",
   "pygments_lexer": "ipython3",
   "version": "3.7.13"
  }
 },
 "nbformat": 4,
 "nbformat_minor": 4
}
